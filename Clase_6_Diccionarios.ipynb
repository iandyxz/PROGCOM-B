{
  "nbformat": 4,
  "nbformat_minor": 0,
  "metadata": {
    "colab": {
      "provenance": [],
      "authorship_tag": "ABX9TyPIm7xQh0pYcflD83fp7Bup",
      "include_colab_link": true
    },
    "kernelspec": {
      "name": "python3",
      "display_name": "Python 3"
    },
    "language_info": {
      "name": "python"
    }
  },
  "cells": [
    {
      "cell_type": "markdown",
      "metadata": {
        "id": "view-in-github",
        "colab_type": "text"
      },
      "source": [
        "<a href=\"https://colab.research.google.com/github/iandyxz/PROGCOM-B/blob/main/Clase_6_Diccionarios.ipynb\" target=\"_parent\"><img src=\"https://colab.research.google.com/assets/colab-badge.svg\" alt=\"Open In Colab\"/></a>"
      ]
    },
    {
      "cell_type": "markdown",
      "source": [
        "##Diccionarios\n",
        "\n",
        "Estructura de datos que almacena valores\n",
        "\n",
        "Sintáxis\n",
        "\n",
        "```\n",
        "nombre_diccionario={\"llavel\": valor}\n",
        "```\n",
        "\n",
        "* LLave: **SIEMPRE** tiene que ser alfanumérica.\n",
        "* Valores: Cualquier tipo de dato"
      ],
      "metadata": {
        "id": "EPUwENFxbORk"
      }
    },
    {
      "cell_type": "code",
      "execution_count": 55,
      "metadata": {
        "id": "aFb4rGT4Yo3N"
      },
      "outputs": [],
      "source": [
        "liga_justicia={\"superhéroes\":[\"Batman\", \"Superman\", \"Wonder Woman\"], \"identidades\":[\"Bruce Wayne\", \"Clark Kent\", \"Diana Prince\"]}"
      ]
    },
    {
      "cell_type": "code",
      "source": [
        "type(liga_justicia)"
      ],
      "metadata": {
        "colab": {
          "base_uri": "https://localhost:8080/"
        },
        "id": "QXhrXSuIcPoD",
        "outputId": "f6a93735-a1ef-4a60-9726-fa16e1f33e36"
      },
      "execution_count": 4,
      "outputs": [
        {
          "output_type": "execute_result",
          "data": {
            "text/plain": [
              "dict"
            ]
          },
          "metadata": {},
          "execution_count": 4
        }
      ]
    },
    {
      "cell_type": "code",
      "source": [
        "liga_justicia"
      ],
      "metadata": {
        "colab": {
          "base_uri": "https://localhost:8080/"
        },
        "id": "XqGcigTLccEy",
        "outputId": "e6d27a70-392b-425b-ba8c-76b0aa5fe09c"
      },
      "execution_count": 5,
      "outputs": [
        {
          "output_type": "execute_result",
          "data": {
            "text/plain": [
              "{'superhéroes': ['Batman', 'Superman', 'Wonder Woman'],\n",
              " 'identidades': ['Bruce Wayne', 'Clark Kent', 'Diana Prince']}"
            ]
          },
          "metadata": {},
          "execution_count": 5
        }
      ]
    },
    {
      "cell_type": "markdown",
      "source": [
        "Los diccionarios **NO** tienen indexación"
      ],
      "metadata": {
        "id": "kFVyKLQldV4p"
      }
    },
    {
      "cell_type": "code",
      "source": [
        "liga_justicia{0}"
      ],
      "metadata": {
        "colab": {
          "base_uri": "https://localhost:8080/",
          "height": 106
        },
        "id": "9fa-_ppPcxCi",
        "outputId": "44de7270-92cf-4747-9421-b7160a97b42f"
      },
      "execution_count": 8,
      "outputs": [
        {
          "output_type": "error",
          "ename": "SyntaxError",
          "evalue": "invalid syntax (ipython-input-591462058.py, line 1)",
          "traceback": [
            "\u001b[0;36m  File \u001b[0;32m\"/tmp/ipython-input-591462058.py\"\u001b[0;36m, line \u001b[0;32m1\u001b[0m\n\u001b[0;31m    liga_justicia{0}\u001b[0m\n\u001b[0m                 ^\u001b[0m\n\u001b[0;31mSyntaxError\u001b[0m\u001b[0;31m:\u001b[0m invalid syntax\n"
          ]
        }
      ]
    },
    {
      "cell_type": "code",
      "source": [
        "liga_justicia['superhéroes']"
      ],
      "metadata": {
        "colab": {
          "base_uri": "https://localhost:8080/"
        },
        "id": "piIw_Hj2dbxh",
        "outputId": "d63c58fd-6698-4c34-e4f8-bb16489f6a67"
      },
      "execution_count": 9,
      "outputs": [
        {
          "output_type": "execute_result",
          "data": {
            "text/plain": [
              "['Batman', 'Superman', 'Wonder Woman']"
            ]
          },
          "metadata": {},
          "execution_count": 9
        }
      ]
    },
    {
      "cell_type": "code",
      "source": [
        "liga_justicia['identidades'][2]"
      ],
      "metadata": {
        "colab": {
          "base_uri": "https://localhost:8080/",
          "height": 35
        },
        "id": "aiVD3-BOd1zZ",
        "outputId": "c8af9262-914f-4deb-c8d6-921e01440f6f"
      },
      "execution_count": 12,
      "outputs": [
        {
          "output_type": "execute_result",
          "data": {
            "text/plain": [
              "'Diana Prince'"
            ],
            "application/vnd.google.colaboratory.intrinsic+json": {
              "type": "string"
            }
          },
          "metadata": {},
          "execution_count": 12
        }
      ]
    },
    {
      "cell_type": "code",
      "source": [
        "liga_justicia['identidades'][3]"
      ],
      "metadata": {
        "colab": {
          "base_uri": "https://localhost:8080/",
          "height": 141
        },
        "id": "vut7AVNgeYWS",
        "outputId": "5789d9cd-aae9-49e8-e79e-013559d28c97"
      },
      "execution_count": 13,
      "outputs": [
        {
          "output_type": "error",
          "ename": "IndexError",
          "evalue": "list index out of range",
          "traceback": [
            "\u001b[0;31m---------------------------------------------------------------------------\u001b[0m",
            "\u001b[0;31mIndexError\u001b[0m                                Traceback (most recent call last)",
            "\u001b[0;32m/tmp/ipython-input-3981066476.py\u001b[0m in \u001b[0;36m<cell line: 0>\u001b[0;34m()\u001b[0m\n\u001b[0;32m----> 1\u001b[0;31m \u001b[0mliga_justicia\u001b[0m\u001b[0;34m[\u001b[0m\u001b[0;34m'identidades'\u001b[0m\u001b[0;34m]\u001b[0m\u001b[0;34m[\u001b[0m\u001b[0;36m3\u001b[0m\u001b[0;34m]\u001b[0m\u001b[0;34m\u001b[0m\u001b[0;34m\u001b[0m\u001b[0m\n\u001b[0m",
            "\u001b[0;31mIndexError\u001b[0m: list index out of range"
          ]
        }
      ]
    },
    {
      "cell_type": "markdown",
      "source": [
        "##EJEMPLOS\n",
        "\n",
        "1. Diccionario.items: Nos muestra todos los objetos que hay en un diccionario."
      ],
      "metadata": {
        "id": "9uYtlJMVetsg"
      }
    },
    {
      "cell_type": "code",
      "source": [
        "liga_justicia.items()"
      ],
      "metadata": {
        "colab": {
          "base_uri": "https://localhost:8080/"
        },
        "id": "qU_idafwepFI",
        "outputId": "71ab9ad3-9094-48fd-9ac5-3ae23a4ecb40"
      },
      "execution_count": 40,
      "outputs": [
        {
          "output_type": "execute_result",
          "data": {
            "text/plain": [
              "dict_items([('superhéroes', ['Batman', 'Superman', 'Wonder Woman']), ('identidades', ['Bruce Wayne', 'Clark Kent', 'Diana Prince'])])"
            ]
          },
          "metadata": {},
          "execution_count": 40
        }
      ]
    },
    {
      "cell_type": "markdown",
      "source": [
        "2. Diccionario.key: Nos muestra las llaves que hay en el diccionario."
      ],
      "metadata": {
        "id": "1oobFsvdgLqn"
      }
    },
    {
      "cell_type": "code",
      "source": [
        "liga_justicia.keys()"
      ],
      "metadata": {
        "colab": {
          "base_uri": "https://localhost:8080/"
        },
        "id": "lz9AemmngSE_",
        "outputId": "def9fbf5-4b7c-4cdc-c242-df2194d68aa5"
      },
      "execution_count": 22,
      "outputs": [
        {
          "output_type": "execute_result",
          "data": {
            "text/plain": [
              "dict_keys(['superhéroes', 'identidades'])"
            ]
          },
          "metadata": {},
          "execution_count": 22
        }
      ]
    },
    {
      "cell_type": "markdown",
      "source": [
        "3. Diccionario.pop: Elimina una de las llaves presentes en el diccionario."
      ],
      "metadata": {
        "id": "sZhsf61xgWAP"
      }
    },
    {
      "cell_type": "code",
      "source": [
        "liga_justicia.pop('superhéroes')\n",
        "liga_justicia"
      ],
      "metadata": {
        "colab": {
          "base_uri": "https://localhost:8080/"
        },
        "id": "y_2tmRAhgYaf",
        "outputId": "349d28b5-6687-4417-f9a4-8e1c55345220"
      },
      "execution_count": 33,
      "outputs": [
        {
          "output_type": "execute_result",
          "data": {
            "text/plain": [
              "{'identidades': ['Bruce Wayne', 'Clark Kent', 'Diana Prince']}"
            ]
          },
          "metadata": {},
          "execution_count": 33
        }
      ]
    },
    {
      "cell_type": "markdown",
      "source": [
        "4. Diccionario.clear: Elimina todos los objetos del diccionario"
      ],
      "metadata": {
        "id": "PiEpX8eppaOG"
      }
    },
    {
      "cell_type": "code",
      "source": [
        "liga_justicia.clear()\n",
        "liga_justicia"
      ],
      "metadata": {
        "colab": {
          "base_uri": "https://localhost:8080/"
        },
        "id": "DXi4Ct-NpfJ_",
        "outputId": "42983a17-a060-4f1b-b91e-91267735f347"
      },
      "execution_count": 41,
      "outputs": [
        {
          "output_type": "execute_result",
          "data": {
            "text/plain": [
              "{}"
            ]
          },
          "metadata": {},
          "execution_count": 41
        }
      ]
    },
    {
      "cell_type": "markdown",
      "source": [
        "5. Diccionario.copy:"
      ],
      "metadata": {
        "id": "7Po7H9mSpk0-"
      }
    },
    {
      "cell_type": "code",
      "source": [
        "justicia_joven={}\n",
        "justicia_joven=liga_justicia.copy()\n",
        "justicia_joven"
      ],
      "metadata": {
        "colab": {
          "base_uri": "https://localhost:8080/"
        },
        "id": "Vl-i5Q2ipvr_",
        "outputId": "b55710c9-1c8d-4b18-fdc7-82ced9bb068c"
      },
      "execution_count": 43,
      "outputs": [
        {
          "output_type": "execute_result",
          "data": {
            "text/plain": [
              "{'superhéroes': ['Batman', 'Superman', 'Wonder Woman'],\n",
              " 'identidades': ['Bruce Wayne', 'Clark Kent', 'Diana Prince']}"
            ]
          },
          "metadata": {},
          "execution_count": 43
        }
      ]
    },
    {
      "cell_type": "markdown",
      "source": [
        "6. Diccionario.fromkeys:"
      ],
      "metadata": {
        "id": "w9K9DZdqpx0O"
      }
    },
    {
      "cell_type": "code",
      "source": [
        "llaves = [\"superheroes\", \"Identidades\"]\n",
        "valores = [\"Flash\", \"Kid Flash\"]\n",
        "heroes = dict.fromkeys(llaves, valores)\n",
        "heroes"
      ],
      "metadata": {
        "colab": {
          "base_uri": "https://localhost:8080/"
        },
        "id": "3mPrS193p4jQ",
        "outputId": "9962d47b-7456-40fb-e25f-c3b683229b0a"
      },
      "execution_count": 44,
      "outputs": [
        {
          "output_type": "execute_result",
          "data": {
            "text/plain": [
              "{'superheroes': ['Flash', 'Kid Flash'], 'Identidades': ['Flash', 'Kid Flash']}"
            ]
          },
          "metadata": {},
          "execution_count": 44
        }
      ]
    },
    {
      "cell_type": "markdown",
      "source": [
        "7. Diccionario.popitem: Elimina la última llave creada."
      ],
      "metadata": {
        "id": "iRAvynmfp68m"
      }
    },
    {
      "cell_type": "code",
      "source": [
        "liga_justicia.popitem()\n",
        "liga_justicia"
      ],
      "metadata": {
        "colab": {
          "base_uri": "https://localhost:8080/"
        },
        "id": "OmjhO5mKqBsG",
        "outputId": "84e07593-3d66-4887-b6f3-77fa1a64f471"
      },
      "execution_count": 46,
      "outputs": [
        {
          "output_type": "execute_result",
          "data": {
            "text/plain": [
              "{'superhéroes': ['Batman', 'Superman', 'Wonder Woman']}"
            ]
          },
          "metadata": {},
          "execution_count": 46
        }
      ]
    },
    {
      "cell_type": "markdown",
      "source": [
        "8. Diccionario.setdefault:"
      ],
      "metadata": {
        "id": "41emVkH4qH5W"
      }
    },
    {
      "cell_type": "code",
      "source": [
        "liga_justicia.setdefault(\"superhéroes\")"
      ],
      "metadata": {
        "colab": {
          "base_uri": "https://localhost:8080/"
        },
        "id": "9MYN4RACqOa3",
        "outputId": "51b15791-8669-4ee1-ab50-374cb3ce25e5"
      },
      "execution_count": 53,
      "outputs": [
        {
          "output_type": "execute_result",
          "data": {
            "text/plain": [
              "['Batman', 'Superman', 'Wonder Woman']"
            ]
          },
          "metadata": {},
          "execution_count": 53
        }
      ]
    },
    {
      "cell_type": "markdown",
      "source": [
        "9. Diccionario.update: Inserta los elementos especificados en el diccionario"
      ],
      "metadata": {
        "id": "RLe6MmOGqjle"
      }
    },
    {
      "cell_type": "code",
      "source": [
        "liga_justicia.update({\"villanos\":[\"Flash reverso\", \"Savitar\", \"Zoom\"]})\n",
        "liga_justicia"
      ],
      "metadata": {
        "colab": {
          "base_uri": "https://localhost:8080/"
        },
        "id": "xr0rklJ-qtSV",
        "outputId": "754af7b2-d7dc-4190-e009-8cc36e765c10"
      },
      "execution_count": 54,
      "outputs": [
        {
          "output_type": "execute_result",
          "data": {
            "text/plain": [
              "{'superhéroes': ['Batman', 'Superman', 'Wonder Woman'],\n",
              " 'identidades': ['Bruce Wayne', 'Clark Kent', 'Diana Prince'],\n",
              " 'villanos': ['Flash reverso', 'Savitar', 'Zoom']}"
            ]
          },
          "metadata": {},
          "execution_count": 54
        }
      ]
    },
    {
      "cell_type": "markdown",
      "source": [
        "10. Diccionario.values: Devuelve los objetos del diccionario en forma de lista"
      ],
      "metadata": {
        "id": "XOl5fJ8oq8wV"
      }
    },
    {
      "cell_type": "code",
      "source": [
        "liga_justicia.values()"
      ],
      "metadata": {
        "colab": {
          "base_uri": "https://localhost:8080/"
        },
        "id": "dOyztAwXrJBt",
        "outputId": "edb6af51-d5e9-41a5-bf16-c28dc53d8981"
      },
      "execution_count": 56,
      "outputs": [
        {
          "output_type": "execute_result",
          "data": {
            "text/plain": [
              "dict_values([['Batman', 'Superman', 'Wonder Woman'], ['Bruce Wayne', 'Clark Kent', 'Diana Prince']])"
            ]
          },
          "metadata": {},
          "execution_count": 56
        }
      ]
    },
    {
      "cell_type": "markdown",
      "source": [
        "11. Diccionario.get: Devuelve el valor del elemento con la clave especificada"
      ],
      "metadata": {
        "id": "F-83m0McrMie"
      }
    },
    {
      "cell_type": "code",
      "source": [
        "liga_justicia.get(\"superhéroes\")"
      ],
      "metadata": {
        "colab": {
          "base_uri": "https://localhost:8080/"
        },
        "id": "6-bshN02rSmW",
        "outputId": "839c5a99-3519-4457-ad51-48f85b1c7bc2"
      },
      "execution_count": 57,
      "outputs": [
        {
          "output_type": "execute_result",
          "data": {
            "text/plain": [
              "['Batman', 'Superman', 'Wonder Woman']"
            ]
          },
          "metadata": {},
          "execution_count": 57
        }
      ]
    }
  ]
}