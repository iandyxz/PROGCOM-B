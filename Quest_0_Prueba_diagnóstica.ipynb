{
  "nbformat": 4,
  "nbformat_minor": 0,
  "metadata": {
    "colab": {
      "provenance": []
    },
    "kernelspec": {
      "name": "python3",
      "display_name": "Python 3"
    },
    "language_info": {
      "name": "python"
    }
  },
  "cells": [
    {
      "cell_type": "markdown",
      "source": [
        "#Prueba diagnóstica\n"
      ],
      "metadata": {
        "id": "sALdZLUonYod"
      }
    },
    {
      "cell_type": "markdown",
      "source": [
        "##Ejercicios de selección\n",
        "1. Escribe un programa que reciba un número e indique si es postivo\n",
        "---"
      ],
      "metadata": {
        "id": "Glssd9dknu08"
      }
    },
    {
      "cell_type": "code",
      "source": [
        "x = int(input(\"Dime un número \"))\n",
        "if x > 0:\n",
        "  print(\"Número positivo\")\n",
        "else:\n",
        "  print(\"Número no positivo >:c\")"
      ],
      "metadata": {
        "colab": {
          "base_uri": "https://localhost:8080/"
        },
        "id": "tiqaPmcIrffi",
        "outputId": "2c93029b-ec3d-4e06-9672-99ccc6961dec"
      },
      "execution_count": 16,
      "outputs": [
        {
          "output_type": "stream",
          "name": "stdout",
          "text": [
            "Dime un número-3\n",
            "Número no positivo >:c\n"
          ]
        }
      ]
    },
    {
      "cell_type": "markdown",
      "source": [
        "2. Escribe un programa que reciba una edad y determine si la persona es mayor de edad"
      ],
      "metadata": {
        "id": "rRchZHNOrgN5"
      }
    },
    {
      "cell_type": "code",
      "source": [
        "x = int(input(\"¿Cuál es tu edad? \"))\n",
        "if x >= 18:\n",
        "  print(\"Usted es mayor de edad\")\n",
        "else:\n",
        "  print(\"Usted es menor de edad, vaya a dormir\")"
      ],
      "metadata": {
        "colab": {
          "base_uri": "https://localhost:8080/"
        },
        "id": "vMaZbiZXrl6y",
        "outputId": "95b06b49-5b89-4629-b12a-be29133b5068"
      },
      "execution_count": 19,
      "outputs": [
        {
          "output_type": "stream",
          "name": "stdout",
          "text": [
            "¿Cuál es tu edad?18\n",
            "Usted es mayor de edad\n"
          ]
        }
      ]
    },
    {
      "cell_type": "markdown",
      "source": [
        "3. Escriba un programa que reciba dos números e imprima el mayor"
      ],
      "metadata": {
        "id": "ktfdpXUgr4Jh"
      }
    },
    {
      "cell_type": "code",
      "source": [
        "n1 = int(input(\"Escriba un primer valor \"))\n",
        "n2 = int(input(\"Escriba un segundo valor \"))\n",
        "if n1 > n2:\n",
        "  print(f\"El número mayor es {n1}\")\n",
        "elif n1 < n2:\n",
        "  print(f\"El número mayor es {n2}\")\n",
        "else:\n",
        "  print (\"Ambos números son iguales\")"
      ],
      "metadata": {
        "colab": {
          "base_uri": "https://localhost:8080/"
        },
        "id": "E4BfY0Dfr_9B",
        "outputId": "5e6c474c-33c3-494e-943a-751fffb5d38e"
      },
      "execution_count": 29,
      "outputs": [
        {
          "output_type": "stream",
          "name": "stdout",
          "text": [
            "Escriba un primer valor2\n",
            "Escriba un segundo valor2\n",
            "Ambos números son iguales\n"
          ]
        }
      ]
    },
    {
      "cell_type": "markdown",
      "source": [
        "4. Escribe un programa que reciba una calificación (0-100) e indique si es Aprobado (>= 60) o Reprobado"
      ],
      "metadata": {
        "id": "IlRD8ErPu0_f"
      }
    },
    {
      "cell_type": "code",
      "source": [
        "c = int(input(\"Escriba su calificación \"))\n",
        "if c >= 60 and c <= 100:\n",
        "  print(\"Aprobado\")\n",
        "elif c < 60 and c >= 0:\n",
        "  print(\"Reprobado\")\n",
        "else:\n",
        "  print(\"Nota no válida\")"
      ],
      "metadata": {
        "colab": {
          "base_uri": "https://localhost:8080/"
        },
        "id": "s9ifCv5CvCUn",
        "outputId": "57e14fe2-bc66-4a4c-d99a-c7130b4dc8d6"
      },
      "execution_count": 35,
      "outputs": [
        {
          "output_type": "stream",
          "name": "stdout",
          "text": [
            "Escriba su calificación-3\n",
            "Nota no válida\n"
          ]
        }
      ]
    },
    {
      "cell_type": "markdown",
      "source": [
        "5. Escribe un programa que determine si un número es par o impar"
      ],
      "metadata": {
        "id": "IZfqN1xnvq-3"
      }
    },
    {
      "cell_type": "code",
      "source": [
        "n = int(input(\"Escriba un número \"))\n",
        "if (n % 2) == 0:\n",
        "  print(\"El número ingresado es par\")\n",
        "else:\n",
        "  print(\"El número ingresado es impar\")"
      ],
      "metadata": {
        "colab": {
          "base_uri": "https://localhost:8080/"
        },
        "id": "hBOVw22vvxc3",
        "outputId": "db11ba4c-8256-490d-d394-1b33a1e6c31b"
      },
      "execution_count": 56,
      "outputs": [
        {
          "output_type": "stream",
          "name": "stdout",
          "text": [
            "Escriba un número1\n",
            "El número ingresado es impar\n"
          ]
        }
      ]
    },
    {
      "cell_type": "markdown",
      "source": [
        "6. Escribe un programa que reciba tres números e imprima el mayor de los tres"
      ],
      "metadata": {
        "id": "RkfgtUmqxBy2"
      }
    },
    {
      "cell_type": "code",
      "source": [
        "na = int(input(\"Ingrese un primer valor \"))\n",
        "nb = int(input(\"Ingrese un segundo valor \"))\n",
        "nc = int(input(\"Ingrese un tercer valor \"))\n",
        "if na > nb and na > nc:\n",
        "  print(f\"El número mayor fue el {na}\")\n",
        "elif nb > na and nb > nc:\n",
        "  print(f\"El número mayor fue el {nb}\")\n",
        "else:\n",
        "  print(f\"El número mayor fue el {nc}\")"
      ],
      "metadata": {
        "colab": {
          "base_uri": "https://localhost:8080/"
        },
        "id": "Uisq_tRBxKB2",
        "outputId": "9b08b7ed-2169-4c40-ed96-9c2328841918"
      },
      "execution_count": 54,
      "outputs": [
        {
          "output_type": "stream",
          "name": "stdout",
          "text": [
            "Ingrese un primer valor1\n",
            "Ingrese un segundo valor2\n",
            "Ingrese un tercer valor3\n",
            "El número mayor fue el 3\n"
          ]
        }
      ]
    },
    {
      "cell_type": "markdown",
      "source": [
        "7. Escribe un programa que reciba un año e indique si es bisiesto"
      ],
      "metadata": {
        "id": "cg8dwN9UyhLt"
      }
    },
    {
      "cell_type": "code",
      "source": [
        "a = int(input(\"Digite un año \"))\n",
        "if (a % 4) == 0 and (a % 100) != 0:\n",
        "  print(f\"El año {a} es bisiesto\")\n",
        "elif (a % 100) == 0 and (a % 400) != 0:\n",
        "  print(f\"El año {a} no es bisiesto\")\n",
        "elif (a % 100) == 0 and (a % 400) == 0:\n",
        "  print(f\"El año {a} fue bisiesto\")\n",
        "else:\n",
        "  print(f\"El año {a} no fue bisiesto\")"
      ],
      "metadata": {
        "colab": {
          "base_uri": "https://localhost:8080/"
        },
        "id": "KUe7ARhDyqOl",
        "outputId": "d28f8971-78dd-434f-fe93-f9cfe728f44c"
      },
      "execution_count": 81,
      "outputs": [
        {
          "output_type": "stream",
          "name": "stdout",
          "text": [
            "Digite un año 1983\n",
            "El año 1983 no fue bisiesto\n"
          ]
        }
      ]
    },
    {
      "cell_type": "markdown",
      "source": [
        "8. Escribe un programa que reciba una contraseña e indique si cumple con las siguientes reglas: más de 8 caracteres, contiene al menos un número y una letra mayúscula"
      ],
      "metadata": {
        "id": "4giX15sN1lm0"
      }
    },
    {
      "cell_type": "code",
      "source": [],
      "metadata": {
        "id": "w_WVo5k62Iqr"
      },
      "execution_count": null,
      "outputs": []
    }
  ]
}