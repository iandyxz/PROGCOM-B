{
  "nbformat": 4,
  "nbformat_minor": 0,
  "metadata": {
    "colab": {
      "provenance": [],
      "authorship_tag": "ABX9TyPMo4ttj3ybGaFa04vMyYW5",
      "include_colab_link": true
    },
    "kernelspec": {
      "name": "python3",
      "display_name": "Python 3"
    },
    "language_info": {
      "name": "python"
    }
  },
  "cells": [
    {
      "cell_type": "markdown",
      "metadata": {
        "id": "view-in-github",
        "colab_type": "text"
      },
      "source": [
        "<a href=\"https://colab.research.google.com/github/iandyxz/PROGCOM-B/blob/main/Taller_Diccionarios_(Individual).ipynb\" target=\"_parent\"><img src=\"https://colab.research.google.com/assets/colab-badge.svg\" alt=\"Open In Colab\"/></a>"
      ]
    },
    {
      "cell_type": "markdown",
      "source": [
        "##EJERCICIOS: FUNCIONES Y TIPOS DE DATOS\n",
        "\n",
        "10. Crea una función que reciba una lista de nombres y retorne cuántos nombres comienzan por una vocal"
      ],
      "metadata": {
        "id": "POkPF_Gl4Tlq"
      }
    },
    {
      "cell_type": "code",
      "execution_count": 33,
      "metadata": {
        "colab": {
          "base_uri": "https://localhost:8080/"
        },
        "id": "MICHl25w4R5w",
        "outputId": "e0600c48-53a1-4644-a1d6-4f14347f0bdc"
      },
      "outputs": [
        {
          "output_type": "stream",
          "name": "stdout",
          "text": [
            "Ingrese un nombre: Andrés\n",
            "Ingrese un nombre: Mauricio\n",
            "Ingrese un nombre: Ignacio\n",
            "Ingrese un nombre: Ulises\n",
            "Ingrese un nombre: Rigo\n",
            "La cantidad de nombres que comienzan con una vocal son 3\n"
          ]
        },
        {
          "output_type": "execute_result",
          "data": {
            "text/plain": [
              "['Andrés', 'Ignacio', 'Ulises']"
            ]
          },
          "metadata": {},
          "execution_count": 33
        }
      ],
      "source": [
        "nom={}\n",
        "nu = 1\n",
        "nl=[]\n",
        "nv=[]\n",
        "\n",
        "while nu <= 5:\n",
        "  c=input(\"Ingrese un nombre: \")\n",
        "  nl.append(c)\n",
        "  l = 0\n",
        "  for ch in c:\n",
        "    while l < 1:\n",
        "      if (str(ch) == \"a\" or str(ch) == \"e\" or str(ch) == \"i\" or str(ch) == \"o\" or str(ch) == \"u\") or (str(ch) == \"A\" or str(ch) == \"E\" or str(ch) == \"I\" or str(ch) == \"O\" or str(ch) == \"U\"):\n",
        "        nv.append(c)\n",
        "        l = l + 1\n",
        "      else:\n",
        "        l = l + 1\n",
        "  nu = nu + 1\n",
        "\n",
        "nom.update({\"Nombres\": nv})\n",
        "nom.update({\"Nombres (No vocal)\": nl})\n",
        "print(f\"La cantidad de nombres que comienzan con una vocal son {len(nv)}\")\n",
        "nom.get(\"Nombres\")"
      ]
    }
  ]
}