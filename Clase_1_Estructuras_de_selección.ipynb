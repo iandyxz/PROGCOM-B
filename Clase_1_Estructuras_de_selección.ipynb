{
  "nbformat": 4,
  "nbformat_minor": 0,
  "metadata": {
    "colab": {
      "provenance": [],
      "authorship_tag": "ABX9TyN8HISr32lfQaFKfHZ3dDV1",
      "include_colab_link": true
    },
    "kernelspec": {
      "name": "python3",
      "display_name": "Python 3"
    },
    "language_info": {
      "name": "python"
    }
  },
  "cells": [
    {
      "cell_type": "markdown",
      "metadata": {
        "id": "view-in-github",
        "colab_type": "text"
      },
      "source": [
        "<a href=\"https://colab.research.google.com/github/iandyxz/PROGCOM-B/blob/main/Clase_1_Estructuras_de_selecci%C3%B3n.ipynb\" target=\"_parent\"><img src=\"https://colab.research.google.com/assets/colab-badge.svg\" alt=\"Open In Colab\"/></a>"
      ]
    },
    {
      "cell_type": "markdown",
      "source": [
        "#Estructuras de selección\n",
        "\n",
        "Sememplean cuando quiero evaluar una condición. El resultado de la evaluación de esta condición siempre se da en Booleano (V o F)."
      ],
      "metadata": {
        "id": "H_DGy6wMLVIn"
      }
    },
    {
      "cell_type": "markdown",
      "source": [
        "##Estructura if-else\n",
        "\n",
        "\n",
        "\n",
        "```\n",
        "if (condición):\n",
        "  entro aquí, si la condición es V\n",
        "else:\n",
        "  entro aquí, si la condició = F\n",
        "  ```\n",
        "\n"
      ],
      "metadata": {
        "id": "DTOv4MltMN5u"
      }
    },
    {
      "cell_type": "code",
      "source": [
        "año = int(input(\"Introduzca un año: \"))\n",
        "if (año%4==0 and año%100!=0):\n",
        "  print(f\"{año} es un año bisiesto\")\n",
        "else:\n",
        "  if (año%400==0):\n",
        "    print(f\"{año} es un año bisiesto\")\n",
        "  else:\n",
        "    print(f\"{año} NO es un año bisiesto\")"
      ],
      "metadata": {
        "colab": {
          "base_uri": "https://localhost:8080/"
        },
        "id": "JeteEySwLUpv",
        "outputId": "7db98b16-c644-445d-e8ff-18de1f386b64"
      },
      "execution_count": 2,
      "outputs": [
        {
          "output_type": "stream",
          "name": "stdout",
          "text": [
            "Introduzca un año: 2025\n",
            "2025 NO es un año bisiesto\n"
          ]
        }
      ]
    },
    {
      "cell_type": "markdown",
      "source": [
        "##Estructura de decisión múltiple if-elif-else\n",
        "\n",
        "Se emplea cuando ha más de una decisión\n",
        "\n",
        "\n",
        "\n",
        "```\n",
        "if (cond1):\n",
        "  si cond1 es verdadero, entro aquí\n",
        "elif (cond2):\n",
        "  si cond 1 es falso, PERO cond2 es verdadero, entro aquí\n",
        "elif (cond3):\n",
        "  si cond1 y cond2 son falsas, PERO cond3 es verdadero, entro aquí\n",
        "else: si cond1, cond2, cond3 y cond n son falsas, entrará aquí.\n",
        "```\n",
        "\n"
      ],
      "metadata": {
        "id": "ldX8sJbBLVaG"
      }
    },
    {
      "cell_type": "code",
      "execution_count": null,
      "metadata": {
        "id": "67kgD6LcLH2H"
      },
      "outputs": [],
      "source": [
        "año = int(input(\"Introduzca un año: \"))\n",
        "if (año%4==0 and año%100!=0): print(f\"{año} es un año bisiesto\")\n",
        "elif (año%400==0): print(f\"{año} es un año bisiesto\")\n",
        "else: print(f\"{año} NO es un año bisiesto\")"
      ]
    },
    {
      "cell_type": "markdown",
      "source": [
        "###Operador terniario\n",
        "\n",
        "Programar una estructura de selección en una sola línea de código\n",
        "\n",
        "\n",
        "\n",
        "```\n",
        "(Lo que se debe ejecutar, si la condición es verdadera) if (condición) else (lo que se debe ejecutar, si la condición es falsa)\n",
        "```\n",
        "\n"
      ],
      "metadata": {
        "id": "vv_oNEVQVkH_"
      }
    },
    {
      "cell_type": "code",
      "source": [
        "año = int(input(\"Introduzca un año: \"))\n",
        "\n",
        "print(f\"{año} es un año bisiesto\") if (año%4==0 and año%100!=0) else print(f\"{año} es un año bisiesto\") if (año%400==0) else print(f\"{año} NO es un año bisiesto\")"
      ],
      "metadata": {
        "colab": {
          "base_uri": "https://localhost:8080/"
        },
        "id": "FKftaW53d0kh",
        "outputId": "a6f4d658-19d9-44b3-ae8f-6bd9991f44c7"
      },
      "execution_count": 54,
      "outputs": [
        {
          "output_type": "stream",
          "name": "stdout",
          "text": [
            "Introduzca un año: 2000\n",
            "2000 es un año bisiesto\n"
          ]
        }
      ]
    },
    {
      "cell_type": "markdown",
      "source": [
        "####Ejercicios:\n",
        "\n",
        "1. Escribe un programa que reciba un número e indique si es positivo."
      ],
      "metadata": {
        "id": "jRtM58eFUeMo"
      }
    },
    {
      "cell_type": "code",
      "source": [
        "#1.1\n",
        "\n",
        "n = int(input(\"Introduzca un número: \"))\n",
        "if n > 0:\n",
        "  print(f\"El número {n} es positivo\")\n",
        "else:\n",
        "  if n == 0:\n",
        "    print(f\"El número {n} es 0\")\n",
        "  else:\n",
        "    print(f\"El número {n} es negativo\")"
      ],
      "metadata": {
        "colab": {
          "base_uri": "https://localhost:8080/"
        },
        "id": "7DkdJOoSU2Fg",
        "outputId": "e73a11d7-9098-4b76-a8ab-44a56d12a916"
      },
      "execution_count": 6,
      "outputs": [
        {
          "output_type": "stream",
          "name": "stdout",
          "text": [
            "Introduzca un número: 21\n",
            "El número 21 es positivo\n"
          ]
        }
      ]
    },
    {
      "cell_type": "code",
      "source": [
        "#1.2\n",
        "\n",
        "n = int(input(\"Introduzca un número: \"))\n",
        "if n > 0:\n",
        "  print(f\"El número {n} es positivo\")\n",
        "elif n == 0:\n",
        "  print(f\"El número {n} es 0\")\n",
        "else:\n",
        "  print(f\"El número {n} es negativo\")"
      ],
      "metadata": {
        "id": "SiAE3PcPVMgg"
      },
      "execution_count": null,
      "outputs": []
    },
    {
      "cell_type": "code",
      "source": [
        "#1.3\n",
        "\n",
        "n = int(input(\"Introduzca un número: \"))\n",
        "\n",
        "print (f\"El número {n} es positivo\") if (n > 0) else print(f\"El número {n} es negativo\")"
      ],
      "metadata": {
        "colab": {
          "base_uri": "https://localhost:8080/"
        },
        "id": "HknsrRqTWMYu",
        "outputId": "a0ed0cc3-d828-4d65-8bf6-4b37a37a7fed"
      },
      "execution_count": 9,
      "outputs": [
        {
          "output_type": "stream",
          "name": "stdout",
          "text": [
            "Introduzca un número: -3\n",
            "El número -3 es negativo\n"
          ]
        }
      ]
    },
    {
      "cell_type": "markdown",
      "source": [
        "2. Escribe un programa que reciba una edad y determine si la persona es mayor de edad"
      ],
      "metadata": {
        "id": "v3juLzRKW1bm"
      }
    },
    {
      "cell_type": "code",
      "source": [
        "#2.1\n",
        "\n",
        "e = int(input(\"¿Cuántos años tienes? \"))\n",
        "\n",
        "if e >= 18:\n",
        "  print(\"Usted es mayor de edad\")\n",
        "else:\n",
        "  print(\"Usted es menor de edad\")"
      ],
      "metadata": {
        "id": "vxIB65jjXJW1"
      },
      "execution_count": null,
      "outputs": []
    },
    {
      "cell_type": "code",
      "source": [
        "#2.2\n",
        "\n",
        "e = int(input(\"¿Cuántos años tienes? \"))\n",
        "\n",
        "if e >= 18:\n",
        "  print(\"Usted es mayor de edad\")\n",
        "elif e < 18:\n",
        "  print(\"Usted es menor de edad\")"
      ],
      "metadata": {
        "id": "6HCaOBF7XaEN"
      },
      "execution_count": null,
      "outputs": []
    },
    {
      "cell_type": "code",
      "source": [
        "#2.3\n",
        "\n",
        "e = int(input(\"¿Cuántos años tienes? \"))\n",
        "\n",
        "print(\"Usted es mayor de edad\") if (e >= 18) else print(\"Usted es menor de edad\")"
      ],
      "metadata": {
        "colab": {
          "base_uri": "https://localhost:8080/"
        },
        "id": "cP0RtkJ5XnjF",
        "outputId": "88d3adf1-260d-49b4-911d-393a878727a9"
      },
      "execution_count": 10,
      "outputs": [
        {
          "output_type": "stream",
          "name": "stdout",
          "text": [
            "¿Cuántos años tienes? 2\n",
            "Usted es menor de edad\n"
          ]
        }
      ]
    },
    {
      "cell_type": "markdown",
      "source": [
        "3. Escribe un programa que reciba dos números e imprima el mayor"
      ],
      "metadata": {
        "id": "Ng1zyydYX1CN"
      }
    },
    {
      "cell_type": "code",
      "source": [
        "#3.1\n",
        "\n",
        "n1 = int(input(\"Introduzca un primer número: \"))\n",
        "n2 = int(input(\"Introduzca un segundo número: \"))\n",
        "\n",
        "if n1 > n2:\n",
        "  print(f\"El número {n1} es mayor que {n2}\")\n",
        "else:\n",
        "  if n1 == n2:\n",
        "    print(\"Ambos números son iguales\")\n",
        "  else:\n",
        "    print(f\"El número {n2} es mayor que {n1}\")"
      ],
      "metadata": {
        "colab": {
          "base_uri": "https://localhost:8080/"
        },
        "id": "v-RiE66NX5mN",
        "outputId": "49bd4c0a-895b-4b94-dee3-d1b2bcf47bf4"
      },
      "execution_count": 12,
      "outputs": [
        {
          "output_type": "stream",
          "name": "stdout",
          "text": [
            "Introduzca un primer número: 1\n",
            "Introduzca un segundo número: 2\n",
            "El número 2 es mayor que 1\n"
          ]
        }
      ]
    },
    {
      "cell_type": "code",
      "source": [
        "#3.2\n",
        "\n",
        "n1 = int(input(\"Introduzca un primer número: \"))\n",
        "n2 = int(input(\"Introduzca un segundo número: \"))\n",
        "\n",
        "if n1 > n2:\n",
        "  print(f\"El número {n1} es mayor que {n2}\")\n",
        "elif n1 == n2:\n",
        "  print(\"Ambos números son iguales\")\n",
        "else:\n",
        "  print(f\"El número {n2} es mayor que {n1}\")"
      ],
      "metadata": {
        "id": "Tk33WgxlYO-V"
      },
      "execution_count": null,
      "outputs": []
    },
    {
      "cell_type": "code",
      "source": [
        "#3.3\n",
        "\n",
        "n1 = int(input(\"Introduzca un primer número: \"))\n",
        "n2 = int(input(\"Introduzca un segundo número: \"))\n",
        "\n",
        "print(f\"El número {n1} es mayor que {n2}\") if (n1 > n2) else print(\"Ambos números son iguales\") if (n1 == n2) else print(f\"El número {n2} es mayor que {n1}\")"
      ],
      "metadata": {
        "colab": {
          "base_uri": "https://localhost:8080/"
        },
        "id": "ve_07zP7YvEF",
        "outputId": "a38ae299-9111-4c07-98e5-41722dbedb12"
      },
      "execution_count": 19,
      "outputs": [
        {
          "output_type": "stream",
          "name": "stdout",
          "text": [
            "Introduzca un primer número: 1\n",
            "Introduzca un segundo número: 2\n",
            "El número 2 es mayor que 1\n"
          ]
        }
      ]
    },
    {
      "cell_type": "markdown",
      "source": [
        "4. Escribe un programa que reciba una calificación (0-100) e indique si es Aprobado (>= 60) o Reprobado"
      ],
      "metadata": {
        "id": "Dwm8a18caGsk"
      }
    },
    {
      "cell_type": "code",
      "source": [
        "#4.1\n",
        "\n",
        "c = int(input(\"Introduzca su calificación: \"))\n",
        "\n",
        "if c > 100 or c < 0:\n",
        "  print(\"Nota no válida\")\n",
        "else:\n",
        "  if c >= 60:\n",
        "    print(\"Usted ha aprobado\")\n",
        "  else:\n",
        "    print(\"Usted ha reprobado\")"
      ],
      "metadata": {
        "colab": {
          "base_uri": "https://localhost:8080/"
        },
        "id": "k_nKsUuaaWKc",
        "outputId": "08786992-863d-46c4-d6c7-e81172c7bf84"
      },
      "execution_count": 23,
      "outputs": [
        {
          "output_type": "stream",
          "name": "stdout",
          "text": [
            "Introduzca su calificación: 60\n",
            "Usted ha aprobado\n"
          ]
        }
      ]
    },
    {
      "cell_type": "code",
      "source": [
        "#4.2\n",
        "\n",
        "c = int(input(\"Introduzca su calificación: \"))\n",
        "\n",
        "if c > 100 or c < 0:\n",
        "  print(\"Nota no válida\")\n",
        "elif c >= 60:\n",
        "  print(\"Usted ha aprobado\")\n",
        "else:\n",
        "  print(\"Usted ha reprobado\")"
      ],
      "metadata": {
        "colab": {
          "base_uri": "https://localhost:8080/"
        },
        "id": "SvuxvTdRa7Cr",
        "outputId": "f6cc0543-12e6-4e59-d54c-f6610b28d3ca"
      },
      "execution_count": 27,
      "outputs": [
        {
          "output_type": "stream",
          "name": "stdout",
          "text": [
            "Introduzca su calificación: 59\n",
            "Usted ha reprobado\n"
          ]
        }
      ]
    },
    {
      "cell_type": "code",
      "source": [
        "#4.3\n",
        "\n",
        "c = int(input(\"Introduzca su calificación: \"))\n",
        "\n",
        "print(\"Nota no válida\") if (c > 100 or c < 0) else print(\"Usted ha aprobado\") if (c >= 60) else print(\"Usted ha reprobado\")"
      ],
      "metadata": {
        "colab": {
          "base_uri": "https://localhost:8080/"
        },
        "id": "7y9kWLKqbDfr",
        "outputId": "5cc7912a-2759-49d6-a854-4f9b790813fa"
      },
      "execution_count": 31,
      "outputs": [
        {
          "output_type": "stream",
          "name": "stdout",
          "text": [
            "Introduzca su calificación: 59\n",
            "Usted ha reprobado\n"
          ]
        }
      ]
    },
    {
      "cell_type": "markdown",
      "source": [
        "5. Escribe un programa que determine si un número es par o impar"
      ],
      "metadata": {
        "id": "wwFEdo7zbgWi"
      }
    },
    {
      "cell_type": "code",
      "source": [
        "#5.1\n",
        "\n",
        "n = int(input(\"Introduzca un número: \"))\n",
        "\n",
        "if n % 2 == 0:\n",
        "  print(f\"El número {n} es par\")\n",
        "else:\n",
        "  print(f\"El número {n} es impar\")"
      ],
      "metadata": {
        "colab": {
          "base_uri": "https://localhost:8080/"
        },
        "id": "zuXIvp3ebknj",
        "outputId": "30a44fec-dc31-41a9-c3fd-9147e4209102"
      },
      "execution_count": 38,
      "outputs": [
        {
          "output_type": "stream",
          "name": "stdout",
          "text": [
            "Introduzca un número: 1\n",
            "El número 1 es impar\n"
          ]
        }
      ]
    },
    {
      "cell_type": "code",
      "source": [
        "#5.2\n",
        "\n",
        "n = int(input(\"Introduzca un número: \"))\n",
        "\n",
        "if n % 2 == 0:\n",
        "  print(f\"El número {n} es par\")\n",
        "elif n % 2 != 0:\n",
        "  print(f\"El número {n} es impar\")"
      ],
      "metadata": {
        "colab": {
          "base_uri": "https://localhost:8080/"
        },
        "id": "pc-HGzzKb2hL",
        "outputId": "2fa7981a-9262-4360-97c6-5c8a5e0ad90d"
      },
      "execution_count": 40,
      "outputs": [
        {
          "output_type": "stream",
          "name": "stdout",
          "text": [
            "Introduzca un número: 1\n",
            "El número 1 es impar\n"
          ]
        }
      ]
    },
    {
      "cell_type": "code",
      "source": [
        "#5.3\n",
        "\n",
        "n = int(input(\"Introduzca un número: \"))\n",
        "\n",
        "print(f\"El número {n} es par\") if (n % 2 == 0) else print(f\"El número {n} es impar\")"
      ],
      "metadata": {
        "colab": {
          "base_uri": "https://localhost:8080/"
        },
        "id": "R_WJ1iftcRQC",
        "outputId": "4ab9eb71-ea6c-44c3-dba0-937ed592f5df"
      },
      "execution_count": 42,
      "outputs": [
        {
          "output_type": "stream",
          "name": "stdout",
          "text": [
            "Introduzca un número: 1\n",
            "El número 1 es impar\n"
          ]
        }
      ]
    },
    {
      "cell_type": "markdown",
      "source": [
        "6. Escribe un programa que reciba tres números e imprima el mayor de los tres"
      ],
      "metadata": {
        "id": "UqvqF2WVcc7Z"
      }
    },
    {
      "cell_type": "code",
      "source": [
        "#6.1\n",
        "\n",
        "n1 = int(input(\"Introduzca un primer número: \"))\n",
        "n2 = int(input(\"Introduzca un segundo número: \"))\n",
        "n3 = int(input(\"Introduzca un tercer número: \"))\n",
        "\n",
        "if n1 > n2 and n1 > n3:\n",
        "  print(f\"El número {n1} es el mayor entre los tres\")\n",
        "else:\n",
        "  if n2 > n1 and n2 > n3:\n",
        "    print(f\"El número {n2} es el mayor entre los tres\")\n",
        "  else:\n",
        "    print(f\"El número {n3} es el mayor entre los tres\")"
      ],
      "metadata": {
        "colab": {
          "base_uri": "https://localhost:8080/"
        },
        "id": "tsmySt_Wcowa",
        "outputId": "a8208526-6d5c-4c63-cb9b-738b10e50267"
      },
      "execution_count": 45,
      "outputs": [
        {
          "output_type": "stream",
          "name": "stdout",
          "text": [
            "Introduzca un primer número: 1\n",
            "Introduzca un segundo número: 3\n",
            "Introduzca un tercer número: 2\n",
            "El número 3 es el mayor entre los tres\n"
          ]
        }
      ]
    },
    {
      "cell_type": "code",
      "source": [
        "#6.2\n",
        "\n",
        "n1 = int(input(\"Introduzca un primer número: \"))\n",
        "n2 = int(input(\"Introduzca un segundo número: \"))\n",
        "n3 = int(input(\"Introduzca un tercer número: \"))\n",
        "\n",
        "if n1 > n2 and n1 > n3:\n",
        "  print(f\"El número {n1} es el mayor entre los tres\")\n",
        "elif n2 > n1 and n2 > n3:\n",
        "  print(f\"El número {n2} es el mayor entre los tres\")\n",
        "else:\n",
        "  print(f\"El número {n3} es el mayor entre los tres\")"
      ],
      "metadata": {
        "colab": {
          "base_uri": "https://localhost:8080/"
        },
        "id": "VfjJDW2kdE-a",
        "outputId": "601c10ee-def9-4b74-a410-84aafd959c15"
      },
      "execution_count": 48,
      "outputs": [
        {
          "output_type": "stream",
          "name": "stdout",
          "text": [
            "Introduzca un primer número: 1\n",
            "Introduzca un segundo número: 3\n",
            "Introduzca un tercer número: 2\n",
            "El número 3 es el mayor entre los tres\n"
          ]
        }
      ]
    },
    {
      "cell_type": "code",
      "source": [
        "#6.3\n",
        "\n",
        "n1 = int(input(\"Introduzca un primer número: \"))\n",
        "n2 = int(input(\"Introduzca un segundo número: \"))\n",
        "n3 = int(input(\"Introduzca un tercer número: \"))\n",
        "\n",
        "print(f\"El número {n1} es el mayor entre los tres\") if (n1 > n2 and n1 > n3) else print(f\"El número {n2} es el mayor entre los tres\") if (n2 > n1 and n2 > n3) else print(f\"El número {n3} es el mayor entre los tres\")"
      ],
      "metadata": {
        "colab": {
          "base_uri": "https://localhost:8080/"
        },
        "id": "HStke2IXdNwB",
        "outputId": "a6ef09a6-ca76-4f7c-cdbc-0dfb591e0a85"
      },
      "execution_count": 51,
      "outputs": [
        {
          "output_type": "stream",
          "name": "stdout",
          "text": [
            "Introduzca un primer número: 1\n",
            "Introduzca un segundo número: 3\n",
            "Introduzca un tercer número: 2\n",
            "El número 3 es el mayor entre los tres\n"
          ]
        }
      ]
    },
    {
      "cell_type": "markdown",
      "source": [
        "7. Escribe un programa que reciba un año e indique si es bisiesto"
      ],
      "metadata": {
        "id": "KXpfZ-GDdiTJ"
      }
    },
    {
      "cell_type": "code",
      "source": [
        "#7.1\n",
        "\n",
        "a = int(input(\"Introduzca un año: \"))\n",
        "\n",
        "if a % 4 == 0 and a % 100 != 0:\n",
        "  print(f\"El año {a} es un año bisiesto\")\n",
        "else:\n",
        "  if a % 400 == 0:\n",
        "    print(f\"El año {a} es bisiesto\")\n",
        "  else:\n",
        "    print(f\"El año {a} NO es bisiesto\")"
      ],
      "metadata": {
        "colab": {
          "base_uri": "https://localhost:8080/"
        },
        "id": "BdPel4pDdphJ",
        "outputId": "7ae545e3-3122-428e-b3df-c049dda13800"
      },
      "execution_count": 57,
      "outputs": [
        {
          "output_type": "stream",
          "name": "stdout",
          "text": [
            "Introduzca un año: 2023\n",
            "El año 2023 NO es bisiesto\n"
          ]
        }
      ]
    },
    {
      "cell_type": "code",
      "source": [
        "#7.2\n",
        "\n",
        "a = int(input(\"Introduzca un año: \"))\n",
        "\n",
        "if a % 4 == 0 and a % 100 != 0:\n",
        "  print(f\"El año {a} es un año bisiesto\")\n",
        "elif a % 400 == 0:\n",
        "  print(f\"El año {a} es bisiesto\")\n",
        "else:\n",
        "  print(f\"El año {a} NO es bisiesto\")"
      ],
      "metadata": {
        "colab": {
          "base_uri": "https://localhost:8080/"
        },
        "id": "Vr77d3x6egwh",
        "outputId": "d83b583a-42b8-4f1d-dd16-8cb0a713db51"
      },
      "execution_count": 58,
      "outputs": [
        {
          "output_type": "stream",
          "name": "stdout",
          "text": [
            "Introduzca un año: 2000\n",
            "El año 2000 es bisiesto\n"
          ]
        }
      ]
    },
    {
      "cell_type": "code",
      "source": [
        "#7.3\n",
        "\n",
        "a = int(input(\"Introduzca un año: \"))\n",
        "\n",
        "print(f\"El año {a} es bisiesto\") if (a % 4 == 0 and a % 100 != 0) else print(f\"El año {a} es bisiesto\") if (a % 400 == 0) else print(f\"El año {a} NO es bisiesto\")"
      ],
      "metadata": {
        "id": "YKuP3oU-epTg"
      },
      "execution_count": null,
      "outputs": []
    }
  ]
}