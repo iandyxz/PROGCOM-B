{
  "nbformat": 4,
  "nbformat_minor": 0,
  "metadata": {
    "colab": {
      "provenance": [],
      "authorship_tag": "ABX9TyOspvqeWBK8o0L43qDAAWZl",
      "include_colab_link": true
    },
    "kernelspec": {
      "name": "python3",
      "display_name": "Python 3"
    },
    "language_info": {
      "name": "python"
    }
  },
  "cells": [
    {
      "cell_type": "markdown",
      "metadata": {
        "id": "view-in-github",
        "colab_type": "text"
      },
      "source": [
        "<a href=\"https://colab.research.google.com/github/iandyxz/PROGCOM-B/blob/main/Taller_Diccionarios.ipynb\" target=\"_parent\"><img src=\"https://colab.research.google.com/assets/colab-badge.svg\" alt=\"Open In Colab\"/></a>"
      ]
    },
    {
      "cell_type": "markdown",
      "source": [
        "##EJERCICIOS: FUNCIONES Y TIPOS DE DATOS\n",
        "\n",
        "10. Crea una función que reciba una lista de nombres y retorne cuántos nombres comienzan por una vocal"
      ],
      "metadata": {
        "id": "POkPF_Gl4Tlq"
      }
    },
    {
      "cell_type": "code",
      "execution_count": 33,
      "metadata": {
        "colab": {
          "base_uri": "https://localhost:8080/"
        },
        "id": "MICHl25w4R5w",
        "outputId": "e0600c48-53a1-4644-a1d6-4f14347f0bdc"
      },
      "outputs": [
        {
          "output_type": "stream",
          "name": "stdout",
          "text": [
            "Ingrese un nombre: Andrés\n",
            "Ingrese un nombre: Mauricio\n",
            "Ingrese un nombre: Ignacio\n",
            "Ingrese un nombre: Ulises\n",
            "Ingrese un nombre: Rigo\n",
            "La cantidad de nombres que comienzan con una vocal son 3\n"
          ]
        },
        {
          "output_type": "execute_result",
          "data": {
            "text/plain": [
              "['Andrés', 'Ignacio', 'Ulises']"
            ]
          },
          "metadata": {},
          "execution_count": 33
        }
      ],
      "source": [
        "nom={}\n",
        "nu = 1\n",
        "nl=[]\n",
        "nv=[]\n",
        "\n",
        "while nu <= 5:\n",
        "  c=input(\"Ingrese un nombre: \")\n",
        "  nl.append(c)\n",
        "  l = 0\n",
        "  for ch in c:\n",
        "    while l < 1:\n",
        "      if (str(ch) == \"a\" or str(ch) == \"e\" or str(ch) == \"i\" or str(ch) == \"o\" or str(ch) == \"u\") or (str(ch) == \"A\" or str(ch) == \"E\" or str(ch) == \"I\" or str(ch) == \"O\" or str(ch) == \"U\"):\n",
        "        nv.append(c)\n",
        "        l = l + 1\n",
        "      else:\n",
        "        l = l + 1\n",
        "  nu = nu + 1\n",
        "\n",
        "nom.update({\"Nombres\": nv})\n",
        "nom.update({\"Nombres (No vocal)\": nl})\n",
        "print(f\"La cantidad de nombres que comienzan con una vocal son {len(nv)}\")\n",
        "nom.get(\"Nombres\")"
      ]
    },
    {
      "cell_type": "markdown",
      "source": [
        "13. Crea una función que reciba un diccionario con claves \"nombre\" y \"edad\", y retorne un mensaje con esos datos"
      ],
      "metadata": {
        "id": "pNpOXQEpCd9w"
      }
    },
    {
      "cell_type": "code",
      "source": [
        "print(\"digite la id del usuario: \")\n",
        "print(\"1. juan\")\n",
        "print(\"2. pedro\")\n",
        "print(\"3. jose\")\n",
        "usuario = int(input())\n",
        "\n",
        "DicNombre1 = {\"Nombre\" : \"juan\" , \"edad\" : 20}\n",
        "DicNombre2 = {\"Nombre\" : \"pedro\" , \"edad\" : 15}\n",
        "DicNombre3 = {\"Nombre\" : \"jose\" , \"edad\" : 80}\n",
        "\n",
        "def mostrar_datos(diccionario):\n",
        "  nombre = diccionario.get('Nombre')\n",
        "  edad = diccionario.get('edad')\n",
        "  print(f\"el nombre es {nombre} y su edad es {edad}\")\n",
        "\n",
        "if (usuario == 1):\n",
        "  mostrar_datos(DicNombre1)\n",
        "elif (usuario == 2):\n",
        "  mostrar_datos(DicNombre2)\n",
        "elif (usuario == 3):\n",
        "  mostrar_datos(DicNombre3)\n",
        "else:\n",
        "  print(\"usuario invalido\")"
      ],
      "metadata": {
        "colab": {
          "base_uri": "https://localhost:8080/"
        },
        "id": "2RBk2sz3FzAF",
        "outputId": "ab965e96-7a7b-4fb6-a024-edaf20ee4aa2"
      },
      "execution_count": 36,
      "outputs": [
        {
          "output_type": "stream",
          "name": "stdout",
          "text": [
            "digite la id del usuario: \n",
            "1. juan\n",
            "2. pedro\n",
            "3. jose\n",
            "2\n",
            "el nombre es pedro y su edad es 15\n"
          ]
        }
      ]
    },
    {
      "cell_type": "markdown",
      "source": [
        "19. Crea una función que reciba un diccionario de empleados (clave: nombre, valor: lista de horas trabajadas) y retorne el total de horas por empleado"
      ],
      "metadata": {
        "id": "UvTV_tNWIK5U"
      }
    },
    {
      "cell_type": "code",
      "source": [
        "datos_empleados = {\"Empleados\": [\"Ana\", \"Luis\", \"Carlos\"],\n",
        "                   \"Horas trabajadas\": [23, 45, 53]}\n",
        "\n",
        "def calcular_total_horas(empleados):\n",
        "  total_horas = {}\n",
        "  nombres = empleados[\"Empleados\"]\n",
        "  horas = empleados[\"Horas trabajadas\"]\n",
        "  for i in range(len(nombres)):\n",
        "    total_horas[nombres[i]] = horas[i]\n",
        "  return total_horas\n",
        "\n",
        "\n",
        "horas_totales_por_empleado = calcular_total_horas(datos_empleados)\n",
        "\n",
        "usuario = input(\"Ingrese el nombre del empleado: \")\n",
        "if usuario in horas_totales_por_empleado:\n",
        "    print(f\"{usuario} ha trabajado un total de {horas_totales_por_empleado[usuario]} horas.\")\n",
        "else:\n",
        "    print(\"Empleado no encontrado.\")"
      ],
      "metadata": {
        "colab": {
          "base_uri": "https://localhost:8080/"
        },
        "id": "f7OmMNW-IYZT",
        "outputId": "485d21c8-3c10-4089-93bb-9a364533d2d6"
      },
      "execution_count": 38,
      "outputs": [
        {
          "output_type": "stream",
          "name": "stdout",
          "text": [
            "Ingrese el nombre del empleado: Carlos\n",
            "Carlos ha trabajado un total de 53 horas.\n"
          ]
        }
      ]
    }
  ]
}