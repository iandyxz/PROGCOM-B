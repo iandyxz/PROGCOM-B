{
  "nbformat": 4,
  "nbformat_minor": 0,
  "metadata": {
    "colab": {
      "provenance": [],
      "include_colab_link": true
    },
    "kernelspec": {
      "name": "python3",
      "display_name": "Python 3"
    },
    "language_info": {
      "name": "python"
    }
  },
  "cells": [
    {
      "cell_type": "markdown",
      "metadata": {
        "id": "view-in-github",
        "colab_type": "text"
      },
      "source": [
        "<a href=\"https://colab.research.google.com/github/iandyxz/PROGCOM-B/blob/main/CQ7_(Chems_Quest_7).ipynb\" target=\"_parent\"><img src=\"https://colab.research.google.com/assets/colab-badge.svg\" alt=\"Open In Colab\"/></a>"
      ]
    },
    {
      "cell_type": "markdown",
      "source": [
        "##Repositorio de Palabras"
      ],
      "metadata": {
        "id": "7f_aRkxmjgfs"
      }
    },
    {
      "cell_type": "markdown",
      "source": [
        "###1. False\n",
        "Valor booleano que representa \"falso\".\n"
      ],
      "metadata": {
        "id": "MGz9cZu8jjuL"
      }
    },
    {
      "cell_type": "code",
      "execution_count": 1,
      "metadata": {
        "colab": {
          "base_uri": "https://localhost:8080/"
        },
        "id": "bvONQIlWh3nf",
        "outputId": "e42925b9-facc-4cfa-aa55-e32c0b77bbd1"
      },
      "outputs": [
        {
          "output_type": "stream",
          "name": "stdout",
          "text": [
            "x es falso\n"
          ]
        }
      ],
      "source": [
        "x = False\n",
        "if not x:\n",
        "    print(\"x es falso\")"
      ]
    },
    {
      "cell_type": "markdown",
      "source": [
        "###2. None\n",
        "Representa ausencia de valor o valor nulo.\n"
      ],
      "metadata": {
        "id": "_A8rx4A_j0Yi"
      }
    },
    {
      "cell_type": "code",
      "source": [
        "x = None\n",
        "if x is None:\n",
        "    print(\"x no tiene valor\")"
      ],
      "metadata": {
        "id": "FWqmP3AYkKNh",
        "colab": {
          "base_uri": "https://localhost:8080/"
        },
        "outputId": "ffd923e9-db5e-400c-ed57-22eedf4425f2"
      },
      "execution_count": 2,
      "outputs": [
        {
          "output_type": "stream",
          "name": "stdout",
          "text": [
            "x no tiene valor\n"
          ]
        }
      ]
    },
    {
      "cell_type": "markdown",
      "source": [
        "###3. True\n",
        "Valor booleano que representa \"verdadero\"."
      ],
      "metadata": {
        "id": "79wgFnS_j1Rt"
      }
    },
    {
      "cell_type": "code",
      "source": [
        "x = True\n",
        "if x:\n",
        "    print(\"x es verdadero\")"
      ],
      "metadata": {
        "id": "WCo8WAAtkKky",
        "colab": {
          "base_uri": "https://localhost:8080/"
        },
        "outputId": "3f1e70f3-58a0-4252-8d30-ac0668d26122"
      },
      "execution_count": 3,
      "outputs": [
        {
          "output_type": "stream",
          "name": "stdout",
          "text": [
            "x es verdadero\n"
          ]
        }
      ]
    },
    {
      "cell_type": "markdown",
      "source": [
        "###4. and\n",
        "Operador lógico que devuelve True si ambas condiciones son verdaderas.\n"
      ],
      "metadata": {
        "id": "hn6KVUpNj1aJ"
      }
    },
    {
      "cell_type": "code",
      "source": [
        "print(True and False)"
      ],
      "metadata": {
        "colab": {
          "base_uri": "https://localhost:8080/"
        },
        "id": "khLtyTAdkK3_",
        "outputId": "fb1ceb84-c95d-4a7f-cd6a-20c2eb954ddb"
      },
      "execution_count": 4,
      "outputs": [
        {
          "output_type": "stream",
          "name": "stdout",
          "text": [
            "False\n"
          ]
        }
      ]
    },
    {
      "cell_type": "markdown",
      "source": [
        "###5. as\n",
        "Crea un alias, usado en import o excepciones.\n"
      ],
      "metadata": {
        "id": "_vU1MkXXj1cp"
      }
    },
    {
      "cell_type": "code",
      "source": [
        "import math as m\n",
        "print(m.sqrt(16))"
      ],
      "metadata": {
        "colab": {
          "base_uri": "https://localhost:8080/"
        },
        "id": "t7-e8RREkLU-",
        "outputId": "2960462b-856c-45cd-893f-964f6fe74a89"
      },
      "execution_count": 5,
      "outputs": [
        {
          "output_type": "stream",
          "name": "stdout",
          "text": [
            "4.0\n"
          ]
        }
      ]
    },
    {
      "cell_type": "markdown",
      "source": [
        "###6. assert\n",
        "Verifica una condición, lanza AssertionError si es falsa.\n"
      ],
      "metadata": {
        "id": "kod3LVG3j1ev"
      }
    },
    {
      "cell_type": "code",
      "source": [
        "x = 5\n",
        "assert x > 0"
      ],
      "metadata": {
        "id": "KeMzg2CYkLkl"
      },
      "execution_count": 6,
      "outputs": []
    },
    {
      "cell_type": "markdown",
      "source": [
        "###8. class\n",
        "Termina un bucle inmediatamente."
      ],
      "metadata": {
        "id": "5xocp3qrj1gE"
      }
    },
    {
      "cell_type": "code",
      "source": [
        "for i in range(5):\n",
        "    if i == 3:\n",
        "        break\n",
        "    print(i)"
      ],
      "metadata": {
        "colab": {
          "base_uri": "https://localhost:8080/"
        },
        "id": "RioSZxBhkMEi",
        "outputId": "8aeea9b0-54f9-4b67-c97c-898ca1019e15"
      },
      "execution_count": 7,
      "outputs": [
        {
          "output_type": "stream",
          "name": "stdout",
          "text": [
            "0\n",
            "1\n",
            "2\n"
          ]
        }
      ]
    },
    {
      "cell_type": "markdown",
      "source": [
        "###9. continue\n",
        "Salta la iteración actual en un bucle.\n"
      ],
      "metadata": {
        "id": "DmgMknZRj1iL"
      }
    },
    {
      "cell_type": "code",
      "source": [
        "for i in range(5):\n",
        "    if i == 2:\n",
        "        continue\n",
        "    print(i)"
      ],
      "metadata": {
        "colab": {
          "base_uri": "https://localhost:8080/"
        },
        "id": "BmJ8zqsaltSQ",
        "outputId": "a1147ec4-f34d-4017-99e1-32bb725b3d38"
      },
      "execution_count": 8,
      "outputs": [
        {
          "output_type": "stream",
          "name": "stdout",
          "text": [
            "0\n",
            "1\n",
            "3\n",
            "4\n"
          ]
        }
      ]
    },
    {
      "cell_type": "markdown",
      "source": [
        "###10. def\n",
        "Declara una función.\n"
      ],
      "metadata": {
        "id": "gHp6v14Zj1j5"
      }
    },
    {
      "cell_type": "code",
      "source": [
        "def saludar():\n",
        "    return \"Hola\"\n",
        "print(saludar())"
      ],
      "metadata": {
        "colab": {
          "base_uri": "https://localhost:8080/"
        },
        "id": "Nj8gCYx7ltja",
        "outputId": "398c09a1-ba3f-4503-b696-6f1313dc95a0"
      },
      "execution_count": 9,
      "outputs": [
        {
          "output_type": "stream",
          "name": "stdout",
          "text": [
            "Hola\n"
          ]
        }
      ]
    },
    {
      "cell_type": "markdown",
      "source": [
        "###11. del\n",
        "Elimina una variable o elemento de una lista."
      ],
      "metadata": {
        "id": "X-ZlWcPrj1l_"
      }
    },
    {
      "cell_type": "code",
      "source": [
        "x = [1, 2, 3]\n",
        "del x[1]\n",
        "print(x)"
      ],
      "metadata": {
        "colab": {
          "base_uri": "https://localhost:8080/"
        },
        "id": "q4AJEvEEltyv",
        "outputId": "2838ebc9-deea-4d08-f517-1573acb18493"
      },
      "execution_count": 10,
      "outputs": [
        {
          "output_type": "stream",
          "name": "stdout",
          "text": [
            "[1, 3]\n"
          ]
        }
      ]
    },
    {
      "cell_type": "markdown",
      "source": [
        "###12. elif\n",
        "Condicional adicional en un if.\n"
      ],
      "metadata": {
        "id": "algputk6j1oH"
      }
    },
    {
      "cell_type": "code",
      "source": [
        "x = 0\n",
        "if x < 0:\n",
        "    print(\"Negativo\")\n",
        "elif x == 0:\n",
        "    print(\"Cero\")\n",
        "else:\n",
        "    print(\"Positivo\")"
      ],
      "metadata": {
        "colab": {
          "base_uri": "https://localhost:8080/"
        },
        "id": "z9Vg8z89lufK",
        "outputId": "6ad10f13-e02c-40bc-c8b3-ddd0ea019f0b"
      },
      "execution_count": 11,
      "outputs": [
        {
          "output_type": "stream",
          "name": "stdout",
          "text": [
            "Cero\n"
          ]
        }
      ]
    },
    {
      "cell_type": "markdown",
      "source": [
        "###13. else\n",
        "Bloque alternativo en if, for o while.\n"
      ],
      "metadata": {
        "id": "PICANdgEj1p0"
      }
    },
    {
      "cell_type": "code",
      "source": [
        "x = 10\n",
        "if x < 5:\n",
        "    print(\"Menor que 5\")\n",
        "else:\n",
        "    print(\"Mayor o igual a 5\")"
      ],
      "metadata": {
        "colab": {
          "base_uri": "https://localhost:8080/"
        },
        "id": "Cb6BbWLTlu1l",
        "outputId": "33fb073b-824c-4b3b-84cd-ffbb2122d94e"
      },
      "execution_count": 12,
      "outputs": [
        {
          "output_type": "stream",
          "name": "stdout",
          "text": [
            "Mayor o igual a 5\n"
          ]
        }
      ]
    },
    {
      "cell_type": "markdown",
      "source": [
        "###14. except\n",
        "Captura excepciones en un try.\n"
      ],
      "metadata": {
        "id": "e4fYYZoRj1r8"
      }
    },
    {
      "cell_type": "code",
      "source": [
        "try:\n",
        "    print(1/0)\n",
        "except ZeroDivisionError:\n",
        "    print(\"Error: división por cero\")"
      ],
      "metadata": {
        "colab": {
          "base_uri": "https://localhost:8080/"
        },
        "id": "Xk6PfWdhlvMj",
        "outputId": "963d2dc4-87ee-46a7-adec-455719b2d24a"
      },
      "execution_count": 13,
      "outputs": [
        {
          "output_type": "stream",
          "name": "stdout",
          "text": [
            "Error: división por cero\n"
          ]
        }
      ]
    },
    {
      "cell_type": "markdown",
      "source": [
        "###15. finally\n",
        "Bloque que siempre se ejecuta en un try."
      ],
      "metadata": {
        "id": "dbICpVKOj1z8"
      }
    },
    {
      "cell_type": "code",
      "source": [
        "try:\n",
        "    x = 1 / 0\n",
        "except:\n",
        "    print(\"Error\")\n",
        "finally:\n",
        "    print(\"Siempre se ejecuta\")"
      ],
      "metadata": {
        "colab": {
          "base_uri": "https://localhost:8080/"
        },
        "id": "_aJXzyoklvmE",
        "outputId": "a3fbf388-0891-4e84-d432-a650274a69e0"
      },
      "execution_count": 14,
      "outputs": [
        {
          "output_type": "stream",
          "name": "stdout",
          "text": [
            "Error\n",
            "Siempre se ejecuta\n"
          ]
        }
      ]
    },
    {
      "cell_type": "markdown",
      "source": [
        "###16. for\n",
        "Itera sobre una secuencia.\n"
      ],
      "metadata": {
        "id": "CJLooxNPj10c"
      }
    },
    {
      "cell_type": "code",
      "source": [
        "for i in range(3):\n",
        "    print(i)"
      ],
      "metadata": {
        "colab": {
          "base_uri": "https://localhost:8080/"
        },
        "id": "cjkUT6qHlv38",
        "outputId": "518e6dde-d57e-4fd7-a0f4-a10667fb002a"
      },
      "execution_count": 15,
      "outputs": [
        {
          "output_type": "stream",
          "name": "stdout",
          "text": [
            "0\n",
            "1\n",
            "2\n"
          ]
        }
      ]
    },
    {
      "cell_type": "markdown",
      "source": [
        "###17. from\n",
        "Importa partes específicas de un módulo.\n"
      ],
      "metadata": {
        "id": "HHRiUz77j109"
      }
    },
    {
      "cell_type": "code",
      "source": [
        "from math import pi\n",
        "print(pi)"
      ],
      "metadata": {
        "colab": {
          "base_uri": "https://localhost:8080/"
        },
        "id": "tuB0KDPhlwL8",
        "outputId": "e7208cb5-7f8b-4201-b970-5fb7f7da6f35"
      },
      "execution_count": 16,
      "outputs": [
        {
          "output_type": "stream",
          "name": "stdout",
          "text": [
            "3.141592653589793\n"
          ]
        }
      ]
    },
    {
      "cell_type": "markdown",
      "source": [
        "###18. global\n",
        "Declara una variable como global.\n"
      ],
      "metadata": {
        "id": "c9Aq6NYNj11c"
      }
    },
    {
      "cell_type": "code",
      "source": [
        "x = 5\n",
        "def f():\n",
        "    global x\n",
        "    x = 10\n",
        "f()\n",
        "print(x)"
      ],
      "metadata": {
        "colab": {
          "base_uri": "https://localhost:8080/"
        },
        "id": "rHhYddTflwdB",
        "outputId": "b157d8ae-9048-4bf2-a2dc-b07b6151a19f"
      },
      "execution_count": 17,
      "outputs": [
        {
          "output_type": "stream",
          "name": "stdout",
          "text": [
            "10\n"
          ]
        }
      ]
    },
    {
      "cell_type": "markdown",
      "source": [
        "###19. if\n",
        "Estructura condicional.\n"
      ],
      "metadata": {
        "id": "yot9x32gj119"
      }
    },
    {
      "cell_type": "code",
      "source": [
        "x = 3\n",
        "if x > 0:\n",
        "    print(\"Positivo\")"
      ],
      "metadata": {
        "colab": {
          "base_uri": "https://localhost:8080/"
        },
        "id": "mVp8fEr4lw0u",
        "outputId": "6091f406-0d62-4b0e-ad24-b35a6d38ba09"
      },
      "execution_count": 18,
      "outputs": [
        {
          "output_type": "stream",
          "name": "stdout",
          "text": [
            "Positivo\n"
          ]
        }
      ]
    },
    {
      "cell_type": "markdown",
      "source": [
        "###20. import\n",
        "Importa un módulo."
      ],
      "metadata": {
        "id": "BHPNGlntj12c"
      }
    },
    {
      "cell_type": "code",
      "source": [
        "import math\n",
        "print(math.sqrt(25))"
      ],
      "metadata": {
        "colab": {
          "base_uri": "https://localhost:8080/"
        },
        "id": "-WMfe3bOlxOq",
        "outputId": "f73b96a2-ebb1-4cb0-f568-dcca745e99a9"
      },
      "execution_count": 19,
      "outputs": [
        {
          "output_type": "stream",
          "name": "stdout",
          "text": [
            "5.0\n"
          ]
        }
      ]
    },
    {
      "cell_type": "markdown",
      "source": [
        "###21. in\n",
        "Verifica pertenencia en una secuencia.\n"
      ],
      "metadata": {
        "id": "dS8mvMisj13B"
      }
    },
    {
      "cell_type": "code",
      "source": [
        "print(3 in [1, 2, 3])"
      ],
      "metadata": {
        "colab": {
          "base_uri": "https://localhost:8080/"
        },
        "id": "RVxli6O8lxqE",
        "outputId": "485f4726-e0fa-4c9c-8d1e-be29e9f1cef2"
      },
      "execution_count": 20,
      "outputs": [
        {
          "output_type": "stream",
          "name": "stdout",
          "text": [
            "True\n"
          ]
        }
      ]
    },
    {
      "cell_type": "markdown",
      "source": [
        "###22. is\n",
        "Verifica identidad de objetos.\n"
      ],
      "metadata": {
        "id": "TpDI5oxUj13i"
      }
    },
    {
      "cell_type": "code",
      "source": [
        "x = None\n",
        "print(x is None)"
      ],
      "metadata": {
        "colab": {
          "base_uri": "https://localhost:8080/"
        },
        "id": "ZHgCrY9On-op",
        "outputId": "9c9acc05-fd04-4f2f-c824-f3d0814ed1c9"
      },
      "execution_count": 21,
      "outputs": [
        {
          "output_type": "stream",
          "name": "stdout",
          "text": [
            "True\n"
          ]
        }
      ]
    },
    {
      "cell_type": "markdown",
      "source": [
        "###23. lambda\n",
        "Define funciones anónimas de una sola línea."
      ],
      "metadata": {
        "id": "US5ilN-ej138"
      }
    },
    {
      "cell_type": "code",
      "source": [
        "doble = lambda x: x * 2\n",
        "print(doble(4))"
      ],
      "metadata": {
        "colab": {
          "base_uri": "https://localhost:8080/"
        },
        "id": "UFeGacHNn-3h",
        "outputId": "99173872-0192-417b-a35a-11c4974cdea7"
      },
      "execution_count": 22,
      "outputs": [
        {
          "output_type": "stream",
          "name": "stdout",
          "text": [
            "8\n"
          ]
        }
      ]
    },
    {
      "cell_type": "markdown",
      "source": [
        "###24. nonlocal\n",
        "Modifica variables de un ámbito externo en funciones anidadas.\n"
      ],
      "metadata": {
        "id": "rW6JKyt4j14d"
      }
    },
    {
      "cell_type": "code",
      "source": [
        "def externo():\n",
        "    x = \"externo\"\n",
        "    def interno():\n",
        "        nonlocal x\n",
        "        x = \"modificado\"\n",
        "    interno()\n",
        "    print(x)\n",
        "externo()"
      ],
      "metadata": {
        "colab": {
          "base_uri": "https://localhost:8080/"
        },
        "id": "PJezqvP2n_a0",
        "outputId": "745cc508-1519-43e8-c82d-19e556c216e2"
      },
      "execution_count": 23,
      "outputs": [
        {
          "output_type": "stream",
          "name": "stdout",
          "text": [
            "modificado\n"
          ]
        }
      ]
    },
    {
      "cell_type": "markdown",
      "source": [
        "###25. not\n",
        "Operador lógico de negación.\n"
      ],
      "metadata": {
        "id": "D34Ac-w-j147"
      }
    },
    {
      "cell_type": "code",
      "source": [
        "print(not True)"
      ],
      "metadata": {
        "colab": {
          "base_uri": "https://localhost:8080/"
        },
        "id": "xi9j2E4Fn_tF",
        "outputId": "35365298-8be6-4b13-94ae-4adff4beb1e3"
      },
      "execution_count": 24,
      "outputs": [
        {
          "output_type": "stream",
          "name": "stdout",
          "text": [
            "False\n"
          ]
        }
      ]
    },
    {
      "cell_type": "markdown",
      "source": [
        "###26. or\n",
        "Operador lógico que devuelve True si alguna condición es verdadera.\n"
      ],
      "metadata": {
        "id": "KHnA7HkTj15q"
      }
    },
    {
      "cell_type": "code",
      "source": [
        "print(True or False)"
      ],
      "metadata": {
        "colab": {
          "base_uri": "https://localhost:8080/"
        },
        "id": "DoCidAfWoACR",
        "outputId": "97a03383-2d25-4e03-9ac9-bb50b7610fad"
      },
      "execution_count": 25,
      "outputs": [
        {
          "output_type": "stream",
          "name": "stdout",
          "text": [
            "True\n"
          ]
        }
      ]
    },
    {
      "cell_type": "markdown",
      "source": [
        "###27. pass\n",
        "Instrucción nula, no hace nada.\n"
      ],
      "metadata": {
        "id": "iw33jeXkj16L"
      }
    },
    {
      "cell_type": "code",
      "source": [
        "def f():\n",
        "    pass"
      ],
      "metadata": {
        "id": "Ezpp-GDin9_V"
      },
      "execution_count": 26,
      "outputs": []
    },
    {
      "cell_type": "markdown",
      "source": [
        "###28. raise\n",
        "Lanza una excepción.\n"
      ],
      "metadata": {
        "id": "fKyOugsWj16q"
      }
    },
    {
      "cell_type": "code",
      "source": [
        "#raise ValueError(\"Error personalizado\")"
      ],
      "metadata": {
        "id": "avL9FLk1n9p-"
      },
      "execution_count": 27,
      "outputs": []
    },
    {
      "cell_type": "markdown",
      "source": [
        "###29. return\n",
        "Devuelve un valor en una función.\n"
      ],
      "metadata": {
        "id": "8C0Pr6KVj17L"
      }
    },
    {
      "cell_type": "code",
      "source": [
        "def suma(a, b):\n",
        "    return a + b\n",
        "print(suma(2, 3))"
      ],
      "metadata": {
        "colab": {
          "base_uri": "https://localhost:8080/"
        },
        "id": "NPOTjm0Xn9QG",
        "outputId": "f834f5fa-95ca-4db8-d2e9-54fccfa0b0c2"
      },
      "execution_count": 28,
      "outputs": [
        {
          "output_type": "stream",
          "name": "stdout",
          "text": [
            "5\n"
          ]
        }
      ]
    },
    {
      "cell_type": "markdown",
      "source": [
        "###30. try\n",
        "Inicia un bloque de manejo de excepciones.\n"
      ],
      "metadata": {
        "id": "jlf-TBIAj17q"
      }
    },
    {
      "cell_type": "code",
      "source": [
        "try:\n",
        "    print(10/0)\n",
        "except:\n",
        "    print(\"Error\")"
      ],
      "metadata": {
        "colab": {
          "base_uri": "https://localhost:8080/"
        },
        "id": "QeEOzQ3an802",
        "outputId": "e28c55a6-75a0-4ae5-adc8-e849fbcc03b7"
      },
      "execution_count": 29,
      "outputs": [
        {
          "output_type": "stream",
          "name": "stdout",
          "text": [
            "Error\n"
          ]
        }
      ]
    },
    {
      "cell_type": "markdown",
      "source": [
        "###31. while\n",
        "Bucle condicional.\n"
      ],
      "metadata": {
        "id": "D3y7Rk8Uj18J"
      }
    },
    {
      "cell_type": "code",
      "source": [
        "i = 0\n",
        "while i < 3:\n",
        "    print(i)\n",
        "    i += 1"
      ],
      "metadata": {
        "colab": {
          "base_uri": "https://localhost:8080/"
        },
        "id": "sKVzM34on8gz",
        "outputId": "e3730a73-0437-449d-f090-51454328783a"
      },
      "execution_count": 30,
      "outputs": [
        {
          "output_type": "stream",
          "name": "stdout",
          "text": [
            "0\n",
            "1\n",
            "2\n"
          ]
        }
      ]
    },
    {
      "cell_type": "markdown",
      "source": [
        "###32. with\n",
        "Administra recursos automáticamente."
      ],
      "metadata": {
        "id": "9cYl-o1pj18p"
      }
    },
    {
      "cell_type": "code",
      "source": [
        "with open(\"archivo.txt\", \"w\") as f:\n",
        "    f.write(\"Hola\")"
      ],
      "metadata": {
        "id": "U1W8SCbgn7rC"
      },
      "execution_count": 31,
      "outputs": []
    },
    {
      "cell_type": "markdown",
      "source": [
        "###33. yield\n",
        "Convierte una función en un generador.\n"
      ],
      "metadata": {
        "id": "NKpOvrhCj19M"
      }
    },
    {
      "cell_type": "code",
      "source": [
        "def contador():\n",
        "    for i in range(3):\n",
        "        yield i\n",
        "\n",
        "for num in contador():\n",
        "    print(num)"
      ],
      "metadata": {
        "colab": {
          "base_uri": "https://localhost:8080/"
        },
        "id": "5VLvv0E8n7Ls",
        "outputId": "d2e0a88a-5cc3-48e2-a6fd-b38532b61652"
      },
      "execution_count": 32,
      "outputs": [
        {
          "output_type": "stream",
          "name": "stdout",
          "text": [
            "0\n",
            "1\n",
            "2\n"
          ]
        }
      ]
    },
    {
      "cell_type": "markdown",
      "source": [
        "###34. __ init __\n",
        "Método especial que se ejecuta al crear una instancia de una clase (constructor).\n"
      ],
      "metadata": {
        "id": "AkA1vWrzj19s"
      }
    },
    {
      "cell_type": "code",
      "source": [
        "class Persona:\n",
        "    def __init__(self, nombre):\n",
        "        self.nombre = nombre\n",
        "\n",
        "p = Persona(\"Ana\")\n",
        "print(p.nombre)"
      ],
      "metadata": {
        "colab": {
          "base_uri": "https://localhost:8080/"
        },
        "id": "4xqiUwOupNWL",
        "outputId": "cf112da4-4633-4b30-96df-6036818c346d"
      },
      "execution_count": 33,
      "outputs": [
        {
          "output_type": "stream",
          "name": "stdout",
          "text": [
            "Ana\n"
          ]
        }
      ]
    },
    {
      "cell_type": "markdown",
      "source": [
        "###35. __ str __\n",
        "Método especial que define la representación en texto de un objeto.\n"
      ],
      "metadata": {
        "id": "KDntwodVj1-L"
      }
    },
    {
      "cell_type": "code",
      "source": [
        "class Persona:\n",
        "    def __init__(self, nombre):\n",
        "        self.nombre = nombre\n",
        "    def __str__(self):\n",
        "        return f\"Persona: {self.nombre}\"\n",
        "\n",
        "print(Persona(\"Carlos\"))"
      ],
      "metadata": {
        "colab": {
          "base_uri": "https://localhost:8080/"
        },
        "id": "dKnC1N1hpNmm",
        "outputId": "0554c66d-50da-4ca7-8b46-79b36c6c47e0"
      },
      "execution_count": 34,
      "outputs": [
        {
          "output_type": "stream",
          "name": "stdout",
          "text": [
            "Persona: Carlos\n"
          ]
        }
      ]
    },
    {
      "cell_type": "markdown",
      "source": [
        "###36. __ name __\n",
        "Variable especial que indica el nombre del módulo que se está ejecutando.\n"
      ],
      "metadata": {
        "id": "WvEdJ0f8j1-r"
      }
    },
    {
      "cell_type": "code",
      "source": [
        "if __name__ == \"__main__\":\n",
        "    print(\"Este script se ejecuta directamente\")"
      ],
      "metadata": {
        "colab": {
          "base_uri": "https://localhost:8080/"
        },
        "id": "Z9Ptltu3pN8z",
        "outputId": "9510e371-715d-42cf-c4c0-635683224acd"
      },
      "execution_count": 35,
      "outputs": [
        {
          "output_type": "stream",
          "name": "stdout",
          "text": [
            "Este script se ejecuta directamente\n"
          ]
        }
      ]
    },
    {
      "cell_type": "markdown",
      "source": [
        "###37. __ main __\n",
        "Nombre que toma el módulo principal cuando se ejecuta un archivo Python.\n"
      ],
      "metadata": {
        "id": "EkZvIvE6j1_J"
      }
    },
    {
      "cell_type": "code",
      "source": [
        "if __name__ == \"__main__\":\n",
        "    print(\"Ejecutado directamente\")"
      ],
      "metadata": {
        "colab": {
          "base_uri": "https://localhost:8080/"
        },
        "id": "xyBbBv5VpORa",
        "outputId": "d5585322-3bb4-49a7-a42d-50fd0b6e663f"
      },
      "execution_count": 36,
      "outputs": [
        {
          "output_type": "stream",
          "name": "stdout",
          "text": [
            "Ejecutado directamente\n"
          ]
        }
      ]
    },
    {
      "cell_type": "markdown",
      "source": [
        "###38. self\n",
        "Referencia al propio objeto dentro de una clase (similar a this en otros lenguajes).\n"
      ],
      "metadata": {
        "id": "Vb2y_z2Hj1_o"
      }
    },
    {
      "cell_type": "code",
      "source": [
        "class Coche:\n",
        "    def __init__(self, marca):\n",
        "        self.marca = marca\n",
        "\n",
        "c = Coche(\"Toyota\")\n",
        "print(c.marca)"
      ],
      "metadata": {
        "colab": {
          "base_uri": "https://localhost:8080/"
        },
        "id": "fe2aZIsdpOtJ",
        "outputId": "74b8135d-4224-4612-cc1f-ee73991a11dd"
      },
      "execution_count": 37,
      "outputs": [
        {
          "output_type": "stream",
          "name": "stdout",
          "text": [
            "Toyota\n"
          ]
        }
      ]
    },
    {
      "cell_type": "markdown",
      "source": [
        "###39. __ doc __\n",
        "Atributo que almacena la documentación de un objeto, clase o módulo.\n"
      ],
      "metadata": {
        "id": "ptCPuOxcj2AY"
      }
    },
    {
      "cell_type": "code",
      "source": [
        "def suma(a, b):\n",
        "    \"\"\"Devuelve la suma de dos números.\"\"\"\n",
        "    return a + b\n",
        "\n",
        "print(suma.__doc__)"
      ],
      "metadata": {
        "colab": {
          "base_uri": "https://localhost:8080/"
        },
        "id": "CzeykB9dpPbZ",
        "outputId": "d3dfc526-e481-458b-f3c8-8a3efea61f0f"
      },
      "execution_count": 38,
      "outputs": [
        {
          "output_type": "stream",
          "name": "stdout",
          "text": [
            "Devuelve la suma de dos números.\n"
          ]
        }
      ]
    },
    {
      "cell_type": "markdown",
      "source": [
        "###40. __ dict __\n",
        "Devuelve un diccionario con los atributos y valores de un objeto.\n"
      ],
      "metadata": {
        "id": "3fRnv4qVj2A3"
      }
    },
    {
      "cell_type": "code",
      "source": [
        "class Animal:\n",
        "    def __init__(self, nombre, edad):\n",
        "        self.nombre = nombre\n",
        "        self.edad = edad\n",
        "\n",
        "a = Animal(\"Perro\", 5)\n",
        "print(a.__dict__)"
      ],
      "metadata": {
        "colab": {
          "base_uri": "https://localhost:8080/"
        },
        "id": "b0uaROfNpPsB",
        "outputId": "a063fb9d-7375-4fe7-8e5e-9d97f2184d53"
      },
      "execution_count": 39,
      "outputs": [
        {
          "output_type": "stream",
          "name": "stdout",
          "text": [
            "{'nombre': 'Perro', 'edad': 5}\n"
          ]
        }
      ]
    }
  ]
}