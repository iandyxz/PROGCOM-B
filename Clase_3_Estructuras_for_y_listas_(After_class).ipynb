{
  "nbformat": 4,
  "nbformat_minor": 0,
  "metadata": {
    "colab": {
      "provenance": [],
      "authorship_tag": "ABX9TyORsKUk5hhn1Ir1B74FokhN",
      "include_colab_link": true
    },
    "kernelspec": {
      "name": "python3",
      "display_name": "Python 3"
    },
    "language_info": {
      "name": "python"
    }
  },
  "cells": [
    {
      "cell_type": "markdown",
      "metadata": {
        "id": "view-in-github",
        "colab_type": "text"
      },
      "source": [
        "<a href=\"https://colab.research.google.com/github/iandyxz/PROGCOM-B/blob/main/Clase_3_Estructuras_for_y_listas_(After_class).ipynb\" target=\"_parent\"><img src=\"https://colab.research.google.com/assets/colab-badge.svg\" alt=\"Open In Colab\"/></a>"
      ]
    },
    {
      "cell_type": "markdown",
      "source": [
        "#Estructuras de repetición\n",
        "\n",
        "Se emplean cuando se desea repetir una parte del código, dada una condición"
      ],
      "metadata": {
        "id": "rbk468OTlQmK"
      }
    },
    {
      "cell_type": "markdown",
      "source": [
        "##Listas\n",
        "\n",
        "* Son un conjunto de tipos de datos, **indexado**, separado por comas, y encerrado entre [].\n",
        "* Todos los elementos dentro de una lista se empiezan a contar desde 0.\n",
        "\n",
        "###Creación de listas\n",
        "\n",
        "* Forma general: lista=[]\n",
        "* Forma manual: animales=[\"gato\", \"perro\", zorro, \"oso\"]\n",
        "* Por conversión: número=list(range(10))\n",
        "* Son objetos"
      ],
      "metadata": {
        "id": "oUjQ88GBvd8y"
      }
    },
    {
      "cell_type": "code",
      "source": [
        "lista=[]"
      ],
      "metadata": {
        "id": "rGWaU8AdwkLS"
      },
      "execution_count": null,
      "outputs": []
    },
    {
      "cell_type": "code",
      "source": [
        "lista=[range(1,8)]"
      ],
      "metadata": {
        "id": "plDUPtSAQBkw"
      },
      "execution_count": null,
      "outputs": []
    },
    {
      "cell_type": "code",
      "source": [
        "lista.count()"
      ],
      "metadata": {
        "colab": {
          "base_uri": "https://localhost:8080/",
          "height": 141
        },
        "id": "5g5Iy1AqQGK_",
        "outputId": "c3e13c13-224d-43f1-b48f-47092b9b0da5"
      },
      "execution_count": null,
      "outputs": [
        {
          "output_type": "error",
          "ename": "TypeError",
          "evalue": "list.count() takes exactly one argument (0 given)",
          "traceback": [
            "\u001b[0;31m---------------------------------------------------------------------------\u001b[0m",
            "\u001b[0;31mTypeError\u001b[0m                                 Traceback (most recent call last)",
            "\u001b[0;32m/tmp/ipython-input-453950251.py\u001b[0m in \u001b[0;36m<cell line: 0>\u001b[0;34m()\u001b[0m\n\u001b[0;32m----> 1\u001b[0;31m \u001b[0mlista\u001b[0m\u001b[0;34m.\u001b[0m\u001b[0mcount\u001b[0m\u001b[0;34m(\u001b[0m\u001b[0;34m)\u001b[0m\u001b[0;34m\u001b[0m\u001b[0;34m\u001b[0m\u001b[0m\n\u001b[0m",
            "\u001b[0;31mTypeError\u001b[0m: list.count() takes exactly one argument (0 given)"
          ]
        }
      ]
    },
    {
      "cell_type": "code",
      "source": [
        "type(lista)"
      ],
      "metadata": {
        "colab": {
          "base_uri": "https://localhost:8080/"
        },
        "id": "l3c6JdZ5wusq",
        "outputId": "f27d5755-a419-41ab-c8b6-a6e79b737542"
      },
      "execution_count": null,
      "outputs": [
        {
          "output_type": "execute_result",
          "data": {
            "text/plain": [
              "list"
            ]
          },
          "metadata": {},
          "execution_count": 11
        }
      ]
    },
    {
      "cell_type": "code",
      "source": [
        "zorro=(1,2,3,4)\n",
        "animales=[\"gato\", \"perro\", zorro, \"oso\"]\n",
        "animales"
      ],
      "metadata": {
        "colab": {
          "base_uri": "https://localhost:8080/"
        },
        "id": "VLWPBUUGxOx5",
        "outputId": "3ed5b4dc-7771-49b0-c70e-b85d76b63461"
      },
      "execution_count": null,
      "outputs": [
        {
          "output_type": "execute_result",
          "data": {
            "text/plain": [
              "['gato', 'perro', (1, 2, 3, 4), 'oso']"
            ]
          },
          "metadata": {},
          "execution_count": 4
        }
      ]
    },
    {
      "cell_type": "code",
      "source": [
        "type(zorro)"
      ],
      "metadata": {
        "id": "IpjyH1YkyZvx"
      },
      "execution_count": null,
      "outputs": []
    },
    {
      "cell_type": "code",
      "source": [
        "número=list(range(10))\n",
        "número"
      ],
      "metadata": {
        "colab": {
          "base_uri": "https://localhost:8080/"
        },
        "id": "ybAo9Mx3y4e5",
        "outputId": "1aba3251-0fb1-4ba1-ef3d-0f22bf15b71a"
      },
      "execution_count": null,
      "outputs": [
        {
          "output_type": "execute_result",
          "data": {
            "text/plain": [
              "[0, 1, 2, 3, 4, 5, 6, 7, 8, 9]"
            ]
          },
          "metadata": {},
          "execution_count": 5
        }
      ]
    },
    {
      "cell_type": "code",
      "source": [
        "número=list(range(10))"
      ],
      "metadata": {
        "id": "stWyJkSIyhKo"
      },
      "execution_count": null,
      "outputs": []
    },
    {
      "cell_type": "markdown",
      "source": [
        "##Estructura para - for\n",
        "\n",
        "Se usa cuando\n",
        "* Se sabe **cuántas veces** se repite una acción.\n",
        "* Esta compuesta por un contador y una condición.\n",
        "* **Contador**: Identifica cuántas veces se va a repetir el bucle y con qué frecuencia.\n",
        "* **Condición**: Evalúa cuándo se detiene.\n",
        "\n",
        "Por definición:\n",
        "\n",
        "\n",
        "\n",
        "```\n",
        "for variable in range(vi, vf+1, paso):\n",
        "  aquí se repite parte del código.\n",
        "```\n",
        "\n",
        "Donde:\n",
        "\n",
        "1. vi: Condición inicial. Dónde arranco a contar.\n",
        "2. vf+1: Condición final. Dónde dejo de contar + 1\n",
        "3. paso: Frecuencia de conteo\n",
        "\n",
        "for para recorrido de listas\n",
        "flor=[\"amapola\", \"rosa\", \"tulipán\", \"orquídea\"]\n",
        "\n",
        "* El para va a iterar tantas veces como elementos tenga la lista\n",
        "* La variable dentro del para, toma como valor cada elemento de la lista\n",
        "\n",
        "```\n",
        "for variable in lista:\n",
        "  variable\n",
        "```\n",
        "\n"
      ],
      "metadata": {
        "id": "X_r-aDPQlWyp"
      }
    },
    {
      "cell_type": "code",
      "execution_count": null,
      "metadata": {
        "colab": {
          "base_uri": "https://localhost:8080/"
        },
        "id": "CWlDKeAMlPyJ",
        "outputId": "87dbb9d0-20a1-4da3-a140-dd793e6be5e2"
      },
      "outputs": [
        {
          "output_type": "stream",
          "name": "stdout",
          "text": [
            "amapola\n",
            "rosa\n",
            "tulipán\n"
          ]
        }
      ],
      "source": [
        "#Creando una lista de nombre flor\n",
        "flor=[\"amapola\", \"rosa\", \"tulipán\", \"orquídea\"]\n",
        "flores=5\n",
        "for flores in flor:\n",
        "  print(flores)\n",
        "  if flores==\"tulipán\":\n",
        "    break #Rompe la iteración"
      ]
    },
    {
      "cell_type": "code",
      "source": [
        "name=[]\n",
        "for nombres in range(5):\n",
        "  name.append(input(\"Ingrese su nombre: \"))"
      ],
      "metadata": {
        "colab": {
          "base_uri": "https://localhost:8080/"
        },
        "id": "sMGIVxu0RKjG",
        "outputId": "67172858-bd21-4429-e985-00471484bee9"
      },
      "execution_count": null,
      "outputs": [
        {
          "name": "stdout",
          "output_type": "stream",
          "text": [
            "Ingrese su nombre: 1\n",
            "Ingrese su nombre: 2\n",
            "Ingrese su nombre: 3\n",
            "Ingrese su nombre: 4\n",
            "Ingrese su nombre: 5\n"
          ]
        }
      ]
    },
    {
      "cell_type": "code",
      "source": [
        "name"
      ],
      "metadata": {
        "colab": {
          "base_uri": "https://localhost:8080/"
        },
        "id": "lxaIXnDbTXLd",
        "outputId": "48bfb866-8f20-433e-ba4c-570d70d342cd"
      },
      "execution_count": null,
      "outputs": [
        {
          "output_type": "execute_result",
          "data": {
            "text/plain": [
              "['1', '2', '3', '4', '5']"
            ]
          },
          "metadata": {},
          "execution_count": 2
        }
      ]
    },
    {
      "cell_type": "markdown",
      "source": [
        "##Estructura while\n",
        "\n",
        "* Se emplea cuando **NO SE SABE** cuántas veces se debe repetir una acción, pero si se conoce su condición de parada (CP).\n",
        "* Condición inicial: Dónde arranca el ciclo.\n",
        "*Condición final (parada): Que indica dónde se detiene el ciclo.\n",
        "* Modificador de condición inicial\n",
        "\n",
        "Estructura general del mientras\n",
        "\n",
        "\n",
        "```\n",
        "condición inicial\n",
        "while (condicióncondición final):\n",
        "  modificador de condición inicial\n",
        "```\n",
        "\n",
        "Modificadores de condición inicial:\n",
        "\n",
        "* Banderas: son booleanos\n",
        "* Son preguntas\n",
        "* Son contadores o acumuladores"
      ],
      "metadata": {
        "id": "gJvu4Uf815cW"
      }
    },
    {
      "cell_type": "markdown",
      "source": [
        "##Ejercicios\n",
        "\n",
        "1. Escribe un programa que imprima los números del 1 al 10"
      ],
      "metadata": {
        "id": "hl5pw41cU-Wd"
      }
    },
    {
      "cell_type": "code",
      "source": [
        "for n in range(10):\n",
        "  print(n+1)"
      ],
      "metadata": {
        "id": "sYWSUFBC1PGv",
        "colab": {
          "base_uri": "https://localhost:8080/"
        },
        "outputId": "1c9b2f4f-5824-4c97-c912-1d1b71ab3673"
      },
      "execution_count": null,
      "outputs": [
        {
          "output_type": "stream",
          "name": "stdout",
          "text": [
            "1\n",
            "2\n",
            "3\n",
            "4\n",
            "5\n",
            "6\n",
            "7\n",
            "8\n",
            "9\n",
            "10\n"
          ]
        }
      ]
    },
    {
      "cell_type": "code",
      "source": [
        "num=[]\n",
        "for n in range(10):\n",
        "  num.append(n+1)\n",
        "  if n == 10:\n",
        "    break\n",
        "  else:\n",
        "    n = n\n",
        "\n",
        "#El objetivo del if, es que solamente se imprima la lista, cuando se hayan contado todos los números, que la lista no se tenga que imprimir 10 veces para añadir un solo número.\n",
        "#Funciona de la siguiente manera: Si n es igual a 10 (número límite pedido), se rompe el ciclo y se pasa al siguiente paso, si no, a n se le asigna el valor de n, es decir, no va a cambiar, para así poder seguir el ciclo con normalidad.\n",
        "\n",
        "print(num)"
      ],
      "metadata": {
        "colab": {
          "base_uri": "https://localhost:8080/"
        },
        "id": "s_kCMSPZVpXE",
        "outputId": "b11e22e3-731f-435b-e7a8-fa466e6c8dfc"
      },
      "execution_count": null,
      "outputs": [
        {
          "output_type": "stream",
          "name": "stdout",
          "text": [
            "[1, 2, 3, 4, 5, 6, 7, 8, 9, 10]\n"
          ]
        }
      ]
    },
    {
      "cell_type": "markdown",
      "source": [
        "2. Escribe un programa que sume los números del 1 al 100"
      ],
      "metadata": {
        "id": "0e3sNn2aZPS4"
      }
    },
    {
      "cell_type": "code",
      "source": [
        "s = 0\n",
        "for n in range (100):\n",
        "  n = n + 1\n",
        "  s = s + n\n",
        "\n",
        "  if n == 100:\n",
        "    break\n",
        "  else:\n",
        "    n = n\n",
        "\n",
        "print(s)"
      ],
      "metadata": {
        "colab": {
          "base_uri": "https://localhost:8080/"
        },
        "id": "GQysoc3vZUQA",
        "outputId": "6ee4c237-dd29-4b86-cba5-33b0d2778f8f"
      },
      "execution_count": null,
      "outputs": [
        {
          "output_type": "stream",
          "name": "stdout",
          "text": [
            "5050\n"
          ]
        }
      ]
    },
    {
      "cell_type": "code",
      "source": [
        "num=[]\n",
        "s = 0\n",
        "for n in range (100):\n",
        "  n = n + 1\n",
        "  s = s + n\n",
        "  num.append(s)\n",
        "\n",
        "  if n == 100:\n",
        "    break\n",
        "  else:\n",
        "    n = n\n",
        "\n",
        "print(num)\n",
        "\n",
        "#El programa va a imprimir una lista con cada uno de los resultados de las sumas conformen van avanzando, es decir:\n",
        "#[1, (1+2), ((1+2)+3), (((1+2)+3)+4), ...] hasta llegar a ((x)+100)"
      ],
      "metadata": {
        "colab": {
          "base_uri": "https://localhost:8080/"
        },
        "id": "AKLfXcyTb629",
        "outputId": "11a003b5-0a6e-4d1b-d788-67fea8f47dae"
      },
      "execution_count": null,
      "outputs": [
        {
          "output_type": "stream",
          "name": "stdout",
          "text": [
            "[1, 3, 6, 10, 15, 21, 28, 36, 45, 55, 66, 78, 91, 105, 120, 136, 153, 171, 190, 210, 231, 253, 276, 300, 325, 351, 378, 406, 435, 465, 496, 528, 561, 595, 630, 666, 703, 741, 780, 820, 861, 903, 946, 990, 1035, 1081, 1128, 1176, 1225, 1275, 1326, 1378, 1431, 1485, 1540, 1596, 1653, 1711, 1770, 1830, 1891, 1953, 2016, 2080, 2145, 2211, 2278, 2346, 2415, 2485, 2556, 2628, 2701, 2775, 2850, 2926, 3003, 3081, 3160, 3240, 3321, 3403, 3486, 3570, 3655, 3741, 3828, 3916, 4005, 4095, 4186, 4278, 4371, 4465, 4560, 4656, 4753, 4851, 4950, 5050]\n"
          ]
        }
      ]
    },
    {
      "cell_type": "markdown",
      "source": [
        "3. Escribe un programa que imprima los múltiplos de 3 entre 1 y 30"
      ],
      "metadata": {
        "id": "IEGwp0oDdapE"
      }
    },
    {
      "cell_type": "code",
      "source": [
        "for n in range(30):\n",
        "  n = n + 1\n",
        "\n",
        "  if ((n % 3) == 0):\n",
        "    print(n)\n",
        "  else:\n",
        "    n = n"
      ],
      "metadata": {
        "colab": {
          "base_uri": "https://localhost:8080/"
        },
        "id": "8Er5qK2rd7QD",
        "outputId": "0e59dbfd-df4e-46e1-a81d-ef1788d5c708"
      },
      "execution_count": null,
      "outputs": [
        {
          "output_type": "stream",
          "name": "stdout",
          "text": [
            "3\n",
            "6\n",
            "9\n",
            "12\n",
            "15\n",
            "18\n",
            "21\n",
            "24\n",
            "27\n",
            "30\n"
          ]
        }
      ]
    },
    {
      "cell_type": "code",
      "source": [
        "num=[]\n",
        "for n in range(30):\n",
        "  n = n + 1\n",
        "\n",
        "  if ((n % 3) == 0):\n",
        "    num.append(n)\n",
        "  else:\n",
        "    n = n\n",
        "\n",
        "  if n == 30:\n",
        "    break\n",
        "  else:\n",
        "    n = n\n",
        "\n",
        "print(num)"
      ],
      "metadata": {
        "colab": {
          "base_uri": "https://localhost:8080/"
        },
        "id": "PwWM-_iyeqzz",
        "outputId": "bb141c68-5e99-47c7-eabc-81bf0f4f049b"
      },
      "execution_count": null,
      "outputs": [
        {
          "output_type": "stream",
          "name": "stdout",
          "text": [
            "[3, 6, 9, 12, 15, 18, 21, 24, 27, 30]\n"
          ]
        }
      ]
    },
    {
      "cell_type": "markdown",
      "source": [
        "4. Escribe un programa que lea un número e imprima su tabla de multiplicar del 1 al 10"
      ],
      "metadata": {
        "id": "zuCRR6FVfIfb"
      }
    },
    {
      "cell_type": "code",
      "source": [
        "n=int(input(\"Introduzca un número: \"))\n",
        "\n",
        "for t in range(10):\n",
        "  t = t + 1\n",
        "  print(f\"{n} * {t} = {(n * t)}\")"
      ],
      "metadata": {
        "colab": {
          "base_uri": "https://localhost:8080/"
        },
        "id": "nGkNx4oMfPxS",
        "outputId": "08e1fe04-d3e9-4817-be95-3f1dcf92e624"
      },
      "execution_count": null,
      "outputs": [
        {
          "output_type": "stream",
          "name": "stdout",
          "text": [
            "Introduzca un número: 2\n",
            "2 * 1 = 2\n",
            "2 * 2 = 4\n",
            "2 * 3 = 6\n",
            "2 * 4 = 8\n",
            "2 * 5 = 10\n",
            "2 * 6 = 12\n",
            "2 * 7 = 14\n",
            "2 * 8 = 16\n",
            "2 * 9 = 18\n",
            "2 * 10 = 20\n"
          ]
        }
      ]
    },
    {
      "cell_type": "code",
      "source": [
        "n=int(input(\"Introduzca un número: \"))\n",
        "num=[]\n",
        "r = 0\n",
        "\n",
        "for t in range(10):\n",
        "  t = t + 1\n",
        "  r = n * t\n",
        "  num.append(r)\n",
        "\n",
        "  if t == 10:\n",
        "    break\n",
        "  else:\n",
        "    t = t\n",
        "\n",
        "print(f\"El resultado de cada una de las tablas de multiplicar del número {n} desde 1 hasta 10, son: {num}\")"
      ],
      "metadata": {
        "colab": {
          "base_uri": "https://localhost:8080/"
        },
        "id": "tuvMdyfvgDFx",
        "outputId": "f25eebea-2db4-4eec-bb41-472e90abed4b"
      },
      "execution_count": null,
      "outputs": [
        {
          "output_type": "stream",
          "name": "stdout",
          "text": [
            "Introduzca un número: 2\n",
            "El resultado de cada una de las tablas de multiplicar del número 2 desde 1 hasta 10, son: [2, 4, 6, 8, 10, 12, 14, 16, 18, 20]\n"
          ]
        }
      ]
    },
    {
      "cell_type": "markdown",
      "source": [
        "5. Escribe un programa que pida 5 números al usuario y calcule el promedio"
      ],
      "metadata": {
        "id": "BuDOfEKViIUQ"
      }
    },
    {
      "cell_type": "code",
      "source": [
        "r = 0\n",
        "p = 0\n",
        "\n",
        "for num in range(5):\n",
        "  n = int(input(\"Introduzca un número: \"))\n",
        "  r = r + n\n",
        "\n",
        "  if num == 5:\n",
        "    break\n",
        "  else:\n",
        "    num = num\n",
        "\n",
        "p = (r / 5)\n",
        "\n",
        "print(f\"El promedio de los cinco números, es: {p}\")"
      ],
      "metadata": {
        "colab": {
          "base_uri": "https://localhost:8080/"
        },
        "id": "d8UcskBuiRSQ",
        "outputId": "cc0171f5-6c0c-4567-fea3-93715b7227d8"
      },
      "execution_count": 10,
      "outputs": [
        {
          "output_type": "stream",
          "name": "stdout",
          "text": [
            "Introduzca un número: 5\n",
            "Introduzca un número: 5\n",
            "Introduzca un número: 4\n",
            "Introduzca un número: 3\n",
            "Introduzca un número: 6\n",
            "El promedio de los cinco números, es: 4.6\n"
          ]
        }
      ]
    },
    {
      "cell_type": "code",
      "source": [
        "usu=[]\n",
        "r = 0\n",
        "p = 0\n",
        "\n",
        "for num in range(5):\n",
        "  n = int(input(\"Introduzca un número: \"))\n",
        "  r = r + n\n",
        "  usu.append(n)\n",
        "\n",
        "  if num == 5:\n",
        "    break\n",
        "  else:\n",
        "    num = num\n",
        "\n",
        "p = (r / 5)\n",
        "\n",
        "print(f\"El promedio de los números {usu}, es: {p}\")"
      ],
      "metadata": {
        "colab": {
          "base_uri": "https://localhost:8080/"
        },
        "id": "VJyNTJ6j-S_G",
        "outputId": "a5c89803-bd82-41ab-c2bf-4f47f49dc3db"
      },
      "execution_count": 12,
      "outputs": [
        {
          "output_type": "stream",
          "name": "stdout",
          "text": [
            "Introduzca un número: 5\n",
            "Introduzca un número: 5\n",
            "Introduzca un número: 4\n",
            "Introduzca un número: 3\n",
            "Introduzca un número: 6\n",
            "El promedio de los números [5, 5, 4, 3, 6], es: 4.6\n"
          ]
        }
      ]
    },
    {
      "cell_type": "markdown",
      "source": [
        "6. Escribe un programa que cuente cuántos números pares hay entre 1 y un número ingresado"
      ],
      "metadata": {
        "id": "3148ZXmp_N_L"
      }
    },
    {
      "cell_type": "code",
      "source": [
        "n=int(input(\"Introduzca un número: \"))\n",
        "i = 1\n",
        "par = 0\n",
        "\n",
        "for i in range(n):\n",
        "  i = i + 1\n",
        "\n",
        "  if ((i % 2) == 0):\n",
        "    par = par + 1\n",
        "  else:\n",
        "    i = i\n",
        "\n",
        "  if i == n:\n",
        "    break\n",
        "  else:\n",
        "    i = i\n",
        "\n",
        "print(f\"Entre el número 1, y el número {n}, hay {par} números pares\")"
      ],
      "metadata": {
        "colab": {
          "base_uri": "https://localhost:8080/"
        },
        "id": "_Svx2W5w_XlF",
        "outputId": "58a3650f-6f54-448c-b115-165fc2ebc2e3"
      },
      "execution_count": 14,
      "outputs": [
        {
          "output_type": "stream",
          "name": "stdout",
          "text": [
            "Introduzca un número: 100\n",
            "Entre el número 1, y el número 100, hay 50 números pares\n"
          ]
        }
      ]
    },
    {
      "cell_type": "code",
      "source": [
        "n=int(input(\"Introduzca un número: \"))\n",
        "i = 1\n",
        "par = []\n",
        "c = 0\n",
        "\n",
        "for i in range(n):\n",
        "  i = i + 1\n",
        "\n",
        "  if ((i % 2) == 0):\n",
        "    par.append(i)\n",
        "    c = c + 1\n",
        "  else:\n",
        "    i = i\n",
        "\n",
        "  if i == n:\n",
        "    break\n",
        "  else:\n",
        "    i = i\n",
        "\n",
        "print(f\"Entre el número 1, y el número {n}, los números: {par} son pares, es decir, hay {c} números pares\")"
      ],
      "metadata": {
        "colab": {
          "base_uri": "https://localhost:8080/"
        },
        "id": "ksZYvRsHAZNc",
        "outputId": "d147ff8b-de23-4eee-b4c7-3fe7b1bd06c2"
      },
      "execution_count": 16,
      "outputs": [
        {
          "output_type": "stream",
          "name": "stdout",
          "text": [
            "Introduzca un número: 10\n",
            "Entre el número 1, y el número 10, son: [2, 4, 6, 8, 10], es decir 5 números pares\n"
          ]
        }
      ]
    },
    {
      "cell_type": "markdown",
      "source": [
        "7. Escribe un programa que solicite contraseñas hasta que el usuario ingrese una válida, formada por su apellido y la longitud de su apellido (\"Espinosa8\" por ejemplo)"
      ],
      "metadata": {
        "id": "pZ02x9FJA5YX"
      }
    },
    {
      "cell_type": "code",
      "source": [
        "print(\"La contraseña debe estar formada por su apellido, y un número que tenga el mismo valor como letras tiene su apellido\")\n",
        "c=input(\"Introduzca una contraseña: \")\n",
        "\n",
        "l = 0\n",
        "n = \"\"\n",
        "i = 0\n",
        "\n",
        "for ch in c:\n",
        "  if ch.isalpha():\n",
        "    l = l + 1\n",
        "  elif ch.isdigit():\n",
        "    n = n + ch\n",
        "\n",
        "for chars in c:\n",
        "  if (int(n) == l):\n",
        "    print(\"Contraseña aceptada\")\n",
        "    break\n",
        "  elif (int(n) != l):\n",
        "    i = i + 1\n",
        "    print(\"La contraseña debe estar formada por su apellido, y un número que tenga el mismo valor como letras tiene su apellido\")\n",
        "    c=input(\"Introduzca una contraseña: \")\n",
        "\n",
        "    l = 0\n",
        "    n = \"\"\n",
        "    for ch in c:\n",
        "      if ch.isalpha():\n",
        "        l = l + 1\n",
        "      elif ch.isdigit():\n",
        "        n = n + ch\n",
        "\n",
        "print(f\"El número de intentos fallidoss fue: {i}\")"
      ],
      "metadata": {
        "colab": {
          "base_uri": "https://localhost:8080/"
        },
        "id": "foy36mdyUjDR",
        "outputId": "f70b816b-7dad-432e-963a-b3817e1fa85c"
      },
      "execution_count": 2,
      "outputs": [
        {
          "output_type": "stream",
          "name": "stdout",
          "text": [
            "La contraseña debe estar formada por su apellido, y un número que tenga el mismo valor como letras tiene su apellido\n",
            "Introduzca una contraseña: Andy2\n",
            "La contraseña debe estar formada por su apellido, y un número que tenga el mismo valor como letras tiene su apellido\n",
            "Introduzca una contraseña: Andy5\n",
            "La contraseña debe estar formada por su apellido, y un número que tenga el mismo valor como letras tiene su apellido\n",
            "Introduzca una contraseña: Andy6\n",
            "La contraseña debe estar formada por su apellido, y un número que tenga el mismo valor como letras tiene su apellido\n",
            "Introduzca una contraseña: Andy4\n",
            "Contraseña aceptada\n",
            "El número de intentos fallidoss fue: 3\n"
          ]
        }
      ]
    },
    {
      "cell_type": "code",
      "source": [
        "print(\"La contraseña debe estar formada por su apellido, y un número que tenga el mismo valor como letras tiene su apellido\")\n",
        "c=input(\"Introduzca una contraseña: \")\n",
        "pas = []\n",
        "pas.append(c)\n",
        "l = 0\n",
        "n = \"\"\n",
        "i = 0\n",
        "\n",
        "for ch in c:\n",
        "  if ch.isalpha():\n",
        "    l = l + 1\n",
        "  elif ch.isdigit():\n",
        "    n = n + ch\n",
        "\n",
        "for passws in pas:\n",
        "  if (int(n) == l):\n",
        "    print(\"Contraseña aceptada\")\n",
        "    break\n",
        "  elif (int(n) != l):\n",
        "    i = i + 1\n",
        "    print(\"La contraseña debe estar formada por su apellido, y un número que tenga el mismo valor como letras tiene su apellido\")\n",
        "    c=input(\"Introduzca una contraseña: \")\n",
        "    pas.append(c)\n",
        "\n",
        "    l = 0\n",
        "    n = \"\"\n",
        "    for ch in c:\n",
        "      if ch.isalpha():\n",
        "        l = l + 1\n",
        "      elif ch.isdigit():\n",
        "        n = n + ch\n",
        "\n",
        "print(f\"El número de intentos fallidoss fue: {i}\")\n",
        "print(f\"Intentos anteriores: {pas}\")"
      ],
      "metadata": {
        "colab": {
          "base_uri": "https://localhost:8080/"
        },
        "id": "Ih43UGaDBKz7",
        "outputId": "a686d7a0-9541-463c-f920-762433719e5e"
      },
      "execution_count": 74,
      "outputs": [
        {
          "output_type": "stream",
          "name": "stdout",
          "text": [
            "La contraseña debe estar formada por su apellido, y un número que tenga el mismo valor como letras tiene su apellido\n",
            "Introduzca una contraseña: akjdgkj1\n",
            "La contraseña debe estar formada por su apellido, y un número que tenga el mismo valor como letras tiene su apellido\n",
            "Introduzca una contraseña: dnks21\n",
            "La contraseña debe estar formada por su apellido, y un número que tenga el mismo valor como letras tiene su apellido\n",
            "Introduzca una contraseña: sfnks1\n",
            "La contraseña debe estar formada por su apellido, y un número que tenga el mismo valor como letras tiene su apellido\n",
            "Introduzca una contraseña: sdmsl3\n",
            "La contraseña debe estar formada por su apellido, y un número que tenga el mismo valor como letras tiene su apellido\n",
            "Introduzca una contraseña: Andy4\n",
            "Contraseña aceptada\n",
            "El número de intentos fallidos fue: 4\n",
            "Intentos anteriores: ['akjdgkj1', 'dnks21', 'sfnks1', 'sdmsl3', 'Andy4']\n"
          ]
        }
      ]
    },
    {
      "cell_type": "markdown",
      "source": [
        "8. Escribe un programa que imprima los primeros n números de la serie de Fibonacci"
      ],
      "metadata": {
        "id": "gCl3yIoHVNNq"
      }
    },
    {
      "cell_type": "code",
      "source": [
        "n = int(input(\"Ingresa un número: \"))\n",
        "s = 0\n",
        "r = 1\n",
        "\n",
        "print(s)\n",
        "print(r)\n",
        "for f in range(n-2):\n",
        "    print(s + r)\n",
        "    r = (s + r)\n",
        "    s = (r - s)"
      ],
      "metadata": {
        "colab": {
          "base_uri": "https://localhost:8080/"
        },
        "id": "bt0bKj7fVZZ2",
        "outputId": "736fdc08-f3eb-46a2-8874-2ef5c0f715b0"
      },
      "execution_count": 41,
      "outputs": [
        {
          "output_type": "stream",
          "name": "stdout",
          "text": [
            "Ingresa un número: 10\n",
            "0\n",
            "1\n",
            "1\n",
            "2\n",
            "3\n",
            "5\n",
            "8\n",
            "13\n",
            "21\n",
            "34\n"
          ]
        }
      ]
    },
    {
      "cell_type": "code",
      "source": [
        "n = int(input(\"Ingresa un número: \"))\n",
        "fib=[]\n",
        "s = 0\n",
        "r = 1\n",
        "\n",
        "fib.append(s)\n",
        "fib.append(r)\n",
        "for f in range(n-2):\n",
        "    fib.append(s + r)\n",
        "    r = (s + r)\n",
        "    s = (r - s)\n",
        "\n",
        "print(fib)"
      ],
      "metadata": {
        "colab": {
          "base_uri": "https://localhost:8080/"
        },
        "id": "cGp5xUF5jzHv",
        "outputId": "39861a52-4f98-47b2-b291-4cf3db7c3472"
      },
      "execution_count": 42,
      "outputs": [
        {
          "output_type": "stream",
          "name": "stdout",
          "text": [
            "Ingresa un número: 10\n",
            "[0, 1, 1, 2, 3, 5, 8, 13, 21, 34]\n"
          ]
        }
      ]
    },
    {
      "cell_type": "markdown",
      "source": [
        "9. Escribe un programa que determine si un número ingresado es primo"
      ],
      "metadata": {
        "id": "55eC4IM9kKYK"
      }
    },
    {
      "cell_type": "code",
      "source": [
        "n = int(input(\"Introduzca un número: \"))\n",
        "\n",
        "if (n <= 2):\n",
        "  print(f\"El número {n} no es un número primo\")\n",
        "elif (n == 3):\n",
        "  print(f\"El número {n} es un número primo\")\n",
        "\n",
        "for i in range(2, n):\n",
        "  if ((n % i) == 0):\n",
        "    i = i + 1\n",
        "    if ((n % i) != 0):\n",
        "      print(f\"El número {n} no es un número primo\")\n",
        "      break\n",
        "  else:\n",
        "    i = i + 1\n",
        "    if ((n % i) != 0):\n",
        "      print(f\"El número {n} es un número primo\")\n",
        "      break"
      ],
      "metadata": {
        "colab": {
          "base_uri": "https://localhost:8080/"
        },
        "id": "62tmckaQketC",
        "outputId": "36f27223-de44-450d-c379-a9e250b87327"
      },
      "execution_count": 119,
      "outputs": [
        {
          "output_type": "stream",
          "name": "stdout",
          "text": [
            "Introduzca un número: 9\n",
            "El número 9 no es un número primo\n"
          ]
        }
      ]
    },
    {
      "cell_type": "code",
      "source": [
        "n = int(input(\"Introduzca un número: \"))\n",
        "num=[]\n",
        "\n",
        "if (n <= 2):\n",
        "  num.append(n)\n",
        "  print(f\"El número {num} no es un número primo\")\n",
        "elif (n == 3):\n",
        "  num.append(n)\n",
        "  print(f\"El número {num} es un número primo\")\n",
        "\n",
        "for i in range(2, n):\n",
        "  if ((n % i) == 0):\n",
        "    i = i + 1\n",
        "    if ((n % i) != 0):\n",
        "      num.append(n)\n",
        "      print(f\"El número {num} no es un número primo\")\n",
        "      break\n",
        "  else:\n",
        "    i = i + 1\n",
        "    if ((n % i) != 0):\n",
        "      num.append(n)\n",
        "      print(f\"El número {num} es un número primo\")\n",
        "      break"
      ],
      "metadata": {
        "colab": {
          "base_uri": "https://localhost:8080/"
        },
        "id": "VKHq39sFkfuo",
        "outputId": "e5deb209-5970-4bbc-97e6-a4b91533ec14"
      },
      "execution_count": 121,
      "outputs": [
        {
          "output_type": "stream",
          "name": "stdout",
          "text": [
            "Introduzca un número: 3\n",
            "El número [3] es un número primo\n"
          ]
        }
      ]
    },
    {
      "cell_type": "markdown",
      "source": [
        "10. Escribe un programa que pida una cantidad, y luego ingrese esa cantidad de números, imprima cuántos son positivos, negativos y ceros"
      ],
      "metadata": {
        "id": "9fwJIZ1G2-Fm"
      }
    },
    {
      "cell_type": "code",
      "source": [
        "c = int(input(\"¿Cuántos números quiere ingresar? \"))\n",
        "p = 0\n",
        "ne = 0\n",
        "ce = 0\n",
        "\n",
        "for b in range(c):\n",
        "  n = int(input(\"Introduzca un número: \"))\n",
        "  if (n > 0):\n",
        "    print(f\"El número {n} es un número positivo\")\n",
        "    p = p + 1\n",
        "  elif (n < 0):\n",
        "    print(f\"El número {n} es un número negativo\")\n",
        "    ne = ne + 1\n",
        "  else:\n",
        "    print(f\"El número es un {n}\")\n",
        "    ce = ce + 1\n",
        "\n",
        "print(f\"El total de numeros evaluados fueron {c}\")\n",
        "print(f\"El total de números positivos fueron {p}\")\n",
        "print(f\"El total de números negativos fueron {ne}\")\n",
        "print(f\"El total de ceros fueron {ce}\")"
      ],
      "metadata": {
        "colab": {
          "base_uri": "https://localhost:8080/"
        },
        "id": "CBFQkMO73TwY",
        "outputId": "53733fcc-7c82-4316-db69-2b4349cc1b22"
      },
      "execution_count": 125,
      "outputs": [
        {
          "output_type": "stream",
          "name": "stdout",
          "text": [
            "¿Cuántos números quiere ingresar? 5\n",
            "Introduzca un número: 50\n",
            "El número 50 es un número positivo\n",
            "Introduzca un número: 20\n",
            "El número 20 es un número positivo\n",
            "Introduzca un número: 0\n",
            "El número es un 0\n",
            "Introduzca un número: -3\n",
            "El número -3 es un número negativo\n",
            "Introduzca un número: -5\n",
            "El número -5 es un número negativo\n",
            "El total de numeros evaluados fueron 5\n",
            "El total de números positivos fueron 2\n",
            "El total de números negativos fueron 2\n",
            "El total de ceros fueron 1\n"
          ]
        }
      ]
    },
    {
      "cell_type": "code",
      "source": [
        "c = int(input(\"¿Cuántos números quiere ingresar? \"))\n",
        "p = []\n",
        "po = 0\n",
        "neg = []\n",
        "ne = 0\n",
        "ce = 0\n",
        "\n",
        "for b in range(c):\n",
        "  n = int(input(\"Introduzca un número: \"))\n",
        "  if (n > 0):\n",
        "    p.append(n)\n",
        "    po = po + 1\n",
        "  elif (n < 0):\n",
        "    neg.append(n)\n",
        "    ne = ne + 1\n",
        "  else:\n",
        "    ce = ce + 1\n",
        "\n",
        "print(f\"El total de numeros evaluados fueron {c}\")\n",
        "print(f\"El total de números positivos fueron {po}\")\n",
        "print(f\"Los números positivos fueron: {p}\")\n",
        "print(f\"El total de números negativos fueron {ne}\")\n",
        "print(f\"Los números negativos fueron: {neg}\")\n",
        "print(f\"El total de ceros fueron {ce}\")"
      ],
      "metadata": {
        "colab": {
          "base_uri": "https://localhost:8080/"
        },
        "id": "iK42VCwf5Pg5",
        "outputId": "bc2f2056-39b4-4aa1-b043-29a561d4fb6d"
      },
      "execution_count": 129,
      "outputs": [
        {
          "output_type": "stream",
          "name": "stdout",
          "text": [
            "¿Cuántos números quiere ingresar? 5\n",
            "Introduzca un número: 0\n",
            "Introduzca un número: 4\n",
            "Introduzca un número: 2\n",
            "Introduzca un número: -7\n",
            "Introduzca un número: -4\n",
            "El total de numeros evaluados fueron 5\n",
            "El total de números positivos fueron 2\n",
            "Los números positivos fueron: [4, 2]\n",
            "El total de números negativos fueron 2\n",
            "Los números negativos fueron: [-7, -4]\n",
            "El total de ceros fueron 1\n"
          ]
        }
      ]
    }
  ]
}