{
  "nbformat": 4,
  "nbformat_minor": 0,
  "metadata": {
    "colab": {
      "provenance": [],
      "authorship_tag": "ABX9TyNQJiAzAkFZw+cix6UNj8hw",
      "include_colab_link": true
    },
    "kernelspec": {
      "name": "python3",
      "display_name": "Python 3"
    },
    "language_info": {
      "name": "python"
    }
  },
  "cells": [
    {
      "cell_type": "markdown",
      "metadata": {
        "id": "view-in-github",
        "colab_type": "text"
      },
      "source": [
        "<a href=\"https://colab.research.google.com/github/iandyxz/PROGCOM-B/blob/main/Clase_2_Estructuras_de_repetici%C3%B3n.ipynb\" target=\"_parent\"><img src=\"https://colab.research.google.com/assets/colab-badge.svg\" alt=\"Open In Colab\"/></a>"
      ]
    },
    {
      "cell_type": "markdown",
      "source": [
        "#Estructuras de repetición\n",
        "\n",
        "Se emplean cuando se desea repetir una parte del código, dada una condición"
      ],
      "metadata": {
        "id": "rbk468OTlQmK"
      }
    },
    {
      "cell_type": "markdown",
      "source": [
        "##Listas\n",
        "\n",
        "* Son un conjunto de tipos de datos, **indexado**, separado por comas, y encerrado entre [].\n",
        "* Todos los elementos dentro de una lista se empiezan a contar desde 0.\n",
        "\n",
        "###Creación de listas\n",
        "\n",
        "* Forma general: lista=[]\n",
        "* Forma manual: animales=[\"gato\", \"perro\", zorro, \"oso\"]\n",
        "* Por conversión: número=list(range(10))"
      ],
      "metadata": {
        "id": "oUjQ88GBvd8y"
      }
    },
    {
      "cell_type": "code",
      "source": [
        "lista=[]"
      ],
      "metadata": {
        "id": "rGWaU8AdwkLS"
      },
      "execution_count": 2,
      "outputs": []
    },
    {
      "cell_type": "code",
      "source": [
        "type(lista)"
      ],
      "metadata": {
        "colab": {
          "base_uri": "https://localhost:8080/"
        },
        "id": "l3c6JdZ5wusq",
        "outputId": "9424ef6d-fd37-4237-d9fb-a88bcf2e89f0"
      },
      "execution_count": 3,
      "outputs": [
        {
          "output_type": "execute_result",
          "data": {
            "text/plain": [
              "list"
            ]
          },
          "metadata": {},
          "execution_count": 3
        }
      ]
    },
    {
      "cell_type": "code",
      "source": [
        "zorro=(1,2,3,4)\n",
        "animales=[\"gato\", \"perro\", zorro, \"oso\"]\n",
        "animales"
      ],
      "metadata": {
        "colab": {
          "base_uri": "https://localhost:8080/"
        },
        "id": "VLWPBUUGxOx5",
        "outputId": "3ed5b4dc-7771-49b0-c70e-b85d76b63461"
      },
      "execution_count": 4,
      "outputs": [
        {
          "output_type": "execute_result",
          "data": {
            "text/plain": [
              "['gato', 'perro', (1, 2, 3, 4), 'oso']"
            ]
          },
          "metadata": {},
          "execution_count": 4
        }
      ]
    },
    {
      "cell_type": "code",
      "source": [
        "type(zorro)"
      ],
      "metadata": {
        "id": "IpjyH1YkyZvx"
      },
      "execution_count": null,
      "outputs": []
    },
    {
      "cell_type": "code",
      "source": [
        "número=list(range(10))\n",
        "número"
      ],
      "metadata": {
        "colab": {
          "base_uri": "https://localhost:8080/"
        },
        "id": "ybAo9Mx3y4e5",
        "outputId": "1aba3251-0fb1-4ba1-ef3d-0f22bf15b71a"
      },
      "execution_count": 5,
      "outputs": [
        {
          "output_type": "execute_result",
          "data": {
            "text/plain": [
              "[0, 1, 2, 3, 4, 5, 6, 7, 8, 9]"
            ]
          },
          "metadata": {},
          "execution_count": 5
        }
      ]
    },
    {
      "cell_type": "code",
      "source": [
        "número=list(range(10))"
      ],
      "metadata": {
        "id": "stWyJkSIyhKo"
      },
      "execution_count": null,
      "outputs": []
    },
    {
      "cell_type": "markdown",
      "source": [
        "##Estructura para - for\n",
        "\n",
        "Se usa cuando\n",
        "* Se sabe **cuántas veces** se repite una acción.\n",
        "* Esta compuesta por un contador y una condición.\n",
        "* **Contador**: Identifica cuántas veces se va a repetir el bucle y con qué frecuencia.\n",
        "* **Condición**: Evalúa cuándo se detiene.\n",
        "\n",
        "Por definición:\n",
        "\n",
        "\n",
        "\n",
        "```\n",
        "for variable in range(vi, vf+1, paso):\n",
        "  aquí se repite parte del código.\n",
        "```\n",
        "\n",
        "Donde:\n",
        "\n",
        "1. vi: Condición inicial. Dónde arranco a contar.\n",
        "2. vf+1: Condición final. Dónde dejo de contar + 1\n",
        "3. paso: Frecuencia de conteo\n",
        "\n",
        "for para recorrido de listas\n",
        "flor=[\"amapola\", \"rosa\", \"tulipán\", \"orquídea\"]\n",
        "\n",
        "* El para va a iterar tantas veces como elementos tenga la lista\n",
        "* La variable dentro del para, toma como valor cada elemento de la lista\n",
        "\n",
        "```\n",
        "for variable in lista:\n",
        "  variable\n",
        "```\n",
        "\n"
      ],
      "metadata": {
        "id": "X_r-aDPQlWyp"
      }
    },
    {
      "cell_type": "code",
      "execution_count": 7,
      "metadata": {
        "colab": {
          "base_uri": "https://localhost:8080/"
        },
        "id": "CWlDKeAMlPyJ",
        "outputId": "5fa0a0e5-3af7-4763-8878-c02f4de48cad"
      },
      "outputs": [
        {
          "output_type": "stream",
          "name": "stdout",
          "text": [
            "amapola\n",
            "rosa\n",
            "tulipán\n",
            "orquídea\n"
          ]
        }
      ],
      "source": [
        "#Creando una lista de nombre flor\n",
        "flor=[\"amapola\", \"rosa\", \"tulipán\", \"orquídea\"]\n",
        "flores=5\n",
        "for flores in flor:\n",
        "  print(flores)\n",
        "  if flores==\"tulipán\":\n",
        "    break"
      ]
    },
    {
      "cell_type": "markdown",
      "source": [
        "##Estructura while\n",
        "\n",
        "* Se emplea cuando **NO SE SABE** cuántas veces se debe repetir una acción, pero si se conoce su condición de parada (CP).\n",
        "* Condición inicial: Dónde arranca el ciclo.\n",
        "*Condición final (parada): Que indica dónde se detiene el ciclo.\n",
        "* Modificador de condición inicial\n",
        "\n",
        "Estructura general del mientras\n",
        "\n",
        "\n",
        "```\n",
        "condición inicial\n",
        "while (condicióncondición final):\n",
        "  modificador de condición inicial\n",
        "```\n",
        "\n",
        "Modificadores de condición inicial:\n",
        "\n",
        "* Banderas: son booleanos\n",
        "* Son preguntas\n",
        "* Son contadores o acumuladores"
      ],
      "metadata": {
        "id": "gJvu4Uf815cW"
      }
    },
    {
      "cell_type": "code",
      "source": [],
      "metadata": {
        "id": "sYWSUFBC1PGv"
      },
      "execution_count": null,
      "outputs": []
    }
  ]
}